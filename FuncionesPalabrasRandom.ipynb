{
  "nbformat": 4,
  "nbformat_minor": 0,
  "metadata": {
    "colab": {
      "provenance": [],
      "authorship_tag": "ABX9TyNHa58Y5hTf8XI4dBo2vTVf",
      "include_colab_link": true
    },
    "kernelspec": {
      "name": "python3",
      "display_name": "Python 3"
    },
    "language_info": {
      "name": "python"
    }
  },
  "cells": [
    {
      "cell_type": "markdown",
      "metadata": {
        "id": "view-in-github",
        "colab_type": "text"
      },
      "source": [
        "<a href=\"https://colab.research.google.com/github/Santiagomt1/introductionupb202410/blob/main/FuncionesPalabrasRandom.ipynb\" target=\"_parent\"><img src=\"https://colab.research.google.com/assets/colab-badge.svg\" alt=\"Open In Colab\"/></a>"
      ]
    },
    {
      "cell_type": "code",
      "execution_count": null,
      "metadata": {
        "id": "l6Y1o6ackTKK"
      },
      "outputs": [],
      "source": [
        "import random\n",
        "\n",
        "l1 = ['mami ','bebe ','princess ', 'dalte ']\n",
        "l2 = ['yo quiero ','yo puedo ','yo vengo a ', 'voy a ']\n",
        "l3 = ['encenderte ','amarte ','ligar ', 'jugar ']\n",
        "l4 = ['suave ','lento ','rapido ', 'fuerte ']\n",
        "l5 = ['hasta que salga el sol ','toda la noche ','hasta el amanecer ', 'todo el dia ']\n",
        "l6 = ['sin anestesia ','sin compromiso ','feis to feis ', 'sin miedo ']\n",
        "palabras_reg = [l1, l2, l3, l4, l5, l6]\n",
        "\n",
        "message = ''\n",
        "\n",
        "for part in palabras_reg:\n",
        "  message += random.choice(part)\n",
        "print(message)"
      ]
    },
    {
      "cell_type": "code",
      "source": [
        "import random\n",
        "\n",
        "def generar_frase():\n",
        "  l1 = ['mami ','bebe ','princess ', 'dalte ']\n",
        "  l2 = ['yo quiero ','yo puedo ','yo vengo a ', 'voy a ']\n",
        "  l3 = ['encenderte ','amarte ','ligar ', 'jugar ']\n",
        "  l4 = ['suave ','lento ','rapido ', 'fuerte ']\n",
        "  l5 = ['hasta que salga el sol ','toda la noche ','hasta el amanecer ', 'todo el dia ']\n",
        "  l6 = ['sin anestesia ','sin compromiso ','feis to feis ', 'sin miedo ']\n",
        "  palabras_reg = [l1, l2, l3, l4, l5, l6]\n",
        "\n",
        "  message = ''\n",
        "\n",
        "  for part in palabras_reg:\n",
        "    message += random.choice(part)\n",
        "  return message\n",
        "\n",
        "print(generar_frase())\n"
      ],
      "metadata": {
        "colab": {
          "base_uri": "https://localhost:8080/"
        },
        "id": "Fo39nRX0kfgl",
        "outputId": "ba41baea-96fb-483f-b971-d0bfc723ee91"
      },
      "execution_count": 13,
      "outputs": [
        {
          "output_type": "stream",
          "name": "stdout",
          "text": [
            "dalte voy a amarte rapido hasta el amanecer sin compromiso \n"
          ]
        }
      ]
    },
    {
      "cell_type": "code",
      "source": [
        "my_data = {}\n",
        "l1 = ['mami ','bebe ','princess ', 'dalte ']\n",
        "l2 = ['yo quiero ','yo puedo ','yo vengo a ', 'voy a ']\n",
        "l3 = ['encenderte ','amarte ','ligar ', 'jugar ']\n",
        "l4 = ['suave ','lento ','rapido ', 'fuerte ']\n",
        "l5 = ['hasta que salga el sol ','toda la noche ','hasta el amanecer ', 'todo el dia ']\n",
        "l6 = ['sin anestesia ','sin compromiso ','feis to feis ', 'sin miedo ']\n",
        "my_data[\"l1\"] = l1\n",
        "my_data[\"l2\"] = l2\n",
        "my_data[\"l3\"] = l3\n",
        "my_data[\"l4\"] = l4\n",
        "my_data[\"l5\"] = l5\n",
        "my_data[\"l6\"] = l6\n",
        "\n",
        "import random\n",
        "message = ''\n",
        "\n",
        "for datos in my_data.keys():\n",
        "  message += str(random.choice(my_data[datos]))\n",
        "print(message)"
      ],
      "metadata": {
        "colab": {
          "base_uri": "https://localhost:8080/"
        },
        "id": "Gy0hlIaOmKYE",
        "outputId": "8ce82748-24e1-4da4-fb78-b3bce964dd49"
      },
      "execution_count": 20,
      "outputs": [
        {
          "output_type": "stream",
          "name": "stdout",
          "text": [
            "dalte voy a amarte lento toda la noche sin miedo \n"
          ]
        }
      ]
    },
    {
      "cell_type": "code",
      "source": [
        "reg = {}\n",
        "l1 = ['mami ','bebe ','princess ', 'dalte ']\n",
        "l2 = ['yo quiero ','yo puedo ','yo vengo a ', 'voy a ']\n",
        "l3 = ['encenderte ','amarte ','ligar ', 'jugar ']\n",
        "l4 = ['suave ','lento ','rapido ', 'fuerte ']\n",
        "l5 = ['hasta que salga el sol ','toda la noche ','hasta el amanecer ', 'todo el dia ']\n",
        "l6 = ['sin anestesia ','sin compromiso ','feis to feis ', 'sin miedo ']\n",
        "reg[\"l1\"] = l1\n",
        "reg[\"l2\"] = l2\n",
        "reg[\"l3\"] = l3\n",
        "reg[\"l4\"] = l4\n",
        "reg[\"l5\"] = l5\n",
        "reg[\"l6\"] = l6\n",
        "\n",
        "def frases_reg(reg):\n",
        "  import random\n",
        "  message = ''\n",
        "  for datos in reg.keys():\n",
        "    message += str(random.choice(reg[datos]))\n",
        "  return message\n",
        "\n",
        "print(frases_reg(reg))"
      ],
      "metadata": {
        "colab": {
          "base_uri": "https://localhost:8080/"
        },
        "id": "cAQueqG0pnE3",
        "outputId": "799feabf-3d4d-402f-ad31-47ba516675ce"
      },
      "execution_count": 62,
      "outputs": [
        {
          "output_type": "stream",
          "name": "stdout",
          "text": [
            "princess yo quiero ligar lento todo el dia feis to feis \n"
          ]
        }
      ]
    },
    {
      "cell_type": "code",
      "source": [
        "print(frases_reg(reg))"
      ],
      "metadata": {
        "colab": {
          "base_uri": "https://localhost:8080/"
        },
        "id": "c-6TUDu4tT1B",
        "outputId": "8e8c01f3-1d4e-4e0f-948b-471e06b1565f"
      },
      "execution_count": 73,
      "outputs": [
        {
          "output_type": "stream",
          "name": "stdout",
          "text": [
            "princess yo puedo ligar fuerte hasta que salga el sol sin anestesia \n"
          ]
        }
      ]
    }
  ]
}