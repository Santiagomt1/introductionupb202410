{
  "cells": [
    {
      "cell_type": "markdown",
      "metadata": {
        "id": "view-in-github",
        "colab_type": "text"
      },
      "source": [
        "<a href=\"https://colab.research.google.com/github/Santiagomt1/introductionupb202410/blob/main/Introduction.ipynb\" target=\"_parent\"><img src=\"https://colab.research.google.com/assets/colab-badge.svg\" alt=\"Open In Colab\"/></a>"
      ]
    },
    {
      "cell_type": "markdown",
      "metadata": {
        "id": "VZA-YfwKnBbc"
      },
      "source": [
        "# Introducción a Python\n",
        "## Fundamentos de Programación\n",
        "### Ingeniería Electrónica UPB Montería (202410)\n",
        "- Docente: Miguel Ortiz\n",
        "- email: miguel.ortizp@upb.edu.co\n",
        "\n",
        "**docente:** asterisco negritas\n",
        "\n",
        "_email:_ guion bajo cursiva\n"
      ]
    },
    {
      "cell_type": "code",
      "execution_count": null,
      "metadata": {
        "id": "egjbI1I1msBR"
      },
      "outputs": [],
      "source": [
        "# Comentarios\n",
        "\n",
        "# Todo lo que aparezca después de un # se considera un comentario\n",
        "# Sirven para:\n",
        "# - Dar información (contexto)\n",
        "# - Ayuda futura / Documentar\n",
        "# - Hacer pruebas"
      ]
    },
    {
      "cell_type": "code",
      "execution_count": null,
      "metadata": {
        "id": "RI65-J3ZnmM1"
      },
      "outputs": [],
      "source": [
        "# Print\n",
        "\n",
        "print(\"Hello World!\")"
      ]
    },
    {
      "cell_type": "code",
      "execution_count": null,
      "metadata": {
        "id": "lH12QuatoC8Q"
      },
      "outputs": [],
      "source": [
        "# Variables String (Básico)\n",
        "\n",
        "name = \"Miguel\"\n",
        "lastname = \"Ortiz\"\n",
        "\n",
        "print(name, lastname)"
      ]
    },
    {
      "cell_type": "code",
      "execution_count": null,
      "metadata": {
        "id": "yWtEsxlioZpx"
      },
      "outputs": [],
      "source": [
        "# Type\n",
        "\n",
        "fullname = \"Miguel Ortiz\"\n",
        "print(type(fullname))"
      ]
    },
    {
      "cell_type": "code",
      "execution_count": null,
      "metadata": {
        "id": "BSNfzn5-osPm"
      },
      "outputs": [],
      "source": [
        "# Más variables\n",
        "\n",
        "n = 5\n",
        "r = 2.14\n",
        "soleado = True\n",
        "pet = \"Perro\"\n",
        "\n",
        "print(type(n))\n",
        "print(type(r))\n",
        "print(type(soleado))\n",
        "print(type(pet))"
      ]
    },
    {
      "cell_type": "code",
      "execution_count": null,
      "metadata": {
        "id": "_dxQ_8FAqewu"
      },
      "outputs": [],
      "source": [
        "a = 3\n",
        "b = -5\n",
        "c = a + b\n",
        "print(c)"
      ]
    },
    {
      "cell_type": "code",
      "execution_count": null,
      "metadata": {
        "id": "Eg40YRe1sDM-"
      },
      "outputs": [],
      "source": [
        "m = 3\n",
        "b = -2\n",
        "x = 5\n",
        "y = m *  x + b\n",
        "print(y)"
      ]
    },
    {
      "cell_type": "markdown",
      "source": [
        "### Titulos: Markdown y Operaciones 28/02/2024\n",
        "\n",
        "Se colocan con : '#'\n",
        "\n",
        "###Estilo de letras\n",
        "\n",
        "Se colocan * o _ sencillos ( para cursivas ) o dobles (para negritas)\n",
        "\n",
        "`como sombreado` las ' ` ' el backtip\n",
        "\n",
        "Bloque de codigo, se utilizan 3 backtip ( al inicio y al final):\n",
        "\n",
        "```python\n",
        "a = 3\n",
        "b = 5\n",
        "c = a + b\n",
        "print(c)\n",
        "```\n",
        "### Salto de línea\n",
        "\n",
        "Utilice `<br>`\n",
        "\n",
        "<!---<br>---> comentario (`<!---tal--->`)\n",
        "\n",
        "y 3 asteriscos (`***`) para la linea horizontal.\n",
        "\n",
        "***\n",
        "\n",
        "### Listas\n",
        "\n",
        "-Ordenadas: con numeros\n",
        "-Desordenadas: con `-` o `*`\n",
        "\n",
        "Ejemplo:\n",
        "- leche\n",
        "- huevo\n",
        "  - cafe\n",
        "  - limon\n",
        "\n",
        "### Enlace (link)\n",
        "\n",
        "<img src=\" url imagen/>\n",
        "\n",
        "### Texto y url para links en texto\n",
        "\n",
        "[github](https://github.com/Santiagomt1/introductionupb202410)\n",
        "\n",
        "### LaTeX\n",
        "\n",
        "Utilice el signo `$ estilo letra`\n",
        "Para centrar `$$ centrado $$`\n",
        "buscar estilos latex frac raices etc..\n",
        "\n",
        "Ejemplo:\n",
        "\n",
        "La ecuacion que relaciona el voltaje $V$ en una resistencia $R$ con su corriente $I$ se conoce como la Ley de Ohm:\n",
        "$$V = RI$$"
      ],
      "metadata": {
        "id": "vXJqhJY-y_hU"
      }
    },
    {
      "cell_type": "code",
      "source": [
        "# continuación - Operaciones con números\n",
        "\n",
        "# Suma\n",
        "a = 3\n",
        "b = -4\n",
        "c = a + b\n",
        "print(a)\n",
        "\n",
        "# Resta\n",
        "d = 5\n",
        "e = 7\n",
        "f = d - e\n",
        "print(f)\n",
        "# Multiplicación\n",
        "a = b * c # reasignación de variables\n",
        "print(a)\n",
        "\n",
        "# Division\n",
        "a = b / a  #division entera // y normal /\n",
        "print(a)\n",
        "\n",
        "# Modulo\n",
        "a = 6\n",
        "a = a % 2\n",
        "print (a)\n",
        "\n",
        "# Potencia ^ con **\n",
        "a = 8\n",
        "print(a ** 2)\n",
        "print (a ** 3)\n",
        "print (a ** (1/2)) #raiz cuadrada\n",
        "print (a ** (1/3)) # raiz cubica\n"
      ],
      "metadata": {
        "id": "UHO3qkqG9J3-"
      },
      "execution_count": null,
      "outputs": []
    },
    {
      "cell_type": "code",
      "source": [
        "# Concatenar\n",
        "\n",
        "firstname = \"Miguel\"\n",
        "lastname = \"Ortiz\"\n",
        "fullname = lastname + \" , \"+ firstname\n",
        "print(fullname)"
      ],
      "metadata": {
        "id": "Q0QMGC4E-22O"
      },
      "execution_count": null,
      "outputs": []
    },
    {
      "cell_type": "code",
      "source": [
        "# += toma la variable de la izquierda que tengo y la incrementa a la derecha\n",
        "\n",
        "a = 5\n",
        "a += 10\n",
        "print(a)\n",
        "a -= 8\n",
        "a *= 3\n",
        "a /= 2\n",
        "a **= 2 #potencia igual\n",
        "print(a)"
      ],
      "metadata": {
        "id": "9bbLiJDE_b8u"
      },
      "execution_count": null,
      "outputs": []
    },
    {
      "cell_type": "code",
      "source": [
        "#texto largo multilinea\n",
        "\n",
        "texto = \"\"\"Lorem Ipsum es simplemente el texto de relleno de las\n",
        "imprentas y archivos de texto. Lorem Ipsum ha sido el texto de relleno\n",
        "estándar de las industrias desde el año 1500, cuando un impresor (N. del T\n",
        "persona que se dedica a la imprenta) desconocido usó una galería de textos\n",
        "y los mezcló de tal manera que logró hacer un libro de textos especimen.\"\"\"\n",
        "print(texto)"
      ],
      "metadata": {
        "id": "7DOLiDGxAU70"
      },
      "execution_count": null,
      "outputs": []
    },
    {
      "cell_type": "markdown",
      "source": [
        "# Expresiones booleanas\n",
        "Son aquellas que se evalúan como **True o False**. El computador no entiende las opiniones."
      ],
      "metadata": {
        "id": "3F5yyPodJVN5"
      }
    },
    {
      "cell_type": "code",
      "source": [
        "a = 3\n",
        "b = 5\n",
        "\n",
        "print(a == b)  #igualdad\n",
        "print(a != b)  #diferencia\n",
        "print(a > b)\n",
        "print(a < b)\n",
        "print(a >= b)\n",
        "print(a <= b)\n",
        "\n",
        "c = a == b\n",
        "print(c)\n",
        "\n",
        "a =? #simbolo de ayuda"
      ],
      "metadata": {
        "id": "Bv6aZNcVJlPR"
      },
      "execution_count": null,
      "outputs": []
    },
    {
      "cell_type": "markdown",
      "source": [
        "## Operadores Booleanos\n",
        "\n",
        "Se utilizan para realizar operaciones entre expresiones booleanas. Son `and`, `or`, `not`.\n"
      ],
      "metadata": {
        "id": "7mh7qM5RKlNq"
      }
    },
    {
      "cell_type": "code",
      "source": [
        "# Not = inviertalo si es true lo hace false y lo contrario: 1 entrada\n",
        "#not: 1 entreda #and: 2 entradas #or: 2 entradas\n",
        "# op booleanas\n",
        "\n",
        "a = 2\n",
        "b = 3\n",
        "\n",
        "# not\n",
        "\n",
        "d = not a == b\n",
        "c = not a == b\n",
        "print(d, c)\n",
        "\n",
        "# and\n",
        "e = d and not c\n",
        "print(d, c, e)\n",
        "\n",
        "#or\n",
        "\n",
        "e = d or c\n",
        "print(e)"
      ],
      "metadata": {
        "id": "pt_k2DKeKdai"
      },
      "execution_count": null,
      "outputs": []
    },
    {
      "cell_type": "markdown",
      "source": [
        "# Inputs\n",
        "\n",
        "Son las entradas de usuario por consola."
      ],
      "metadata": {
        "id": "FuIXZcGUQGwq"
      }
    },
    {
      "cell_type": "code",
      "source": [
        "#inputs\n",
        "\n",
        "firstname = input(\"Nombre: \")\n",
        "lastname = input(\"Apellido: \")\n",
        "fullname = firstname + \" \" + lastname\n",
        "print(\"Hola,\", fullname, \"¡Bienvenido a Python!\")"
      ],
      "metadata": {
        "id": "bVRaqf6dQOSK"
      },
      "execution_count": null,
      "outputs": []
    },
    {
      "cell_type": "markdown",
      "source": [
        "## Ejercicios\n",
        "\n",
        "1. Personal information (Gaddis):\n",
        "\n",
        "\n",
        "#comentar todo ctrl k + c"
      ],
      "metadata": {
        "id": "-504dEVHUMEc"
      }
    },
    {
      "cell_type": "code",
      "source": [
        "# name = input(\"Ingrese su nombre: \")\n",
        "# address = input(\"Ingrese su dirección: \")\n",
        "# city = input(\"Ingrese su ciudad: \")\n",
        "# state = input(\"Ingrese su estado: \")\n",
        "# zip = input(\"Ingrese su código Zip: \")\n",
        "# phone_number = = input(\"Ingrese su numero de telefono: \")\n",
        "# college_major = input(\"Ingrese su titulo universitario: \")\n",
        "\n",
        "name = \"Elver\"\n",
        "address = \"Av los angel\"\n",
        "city = \"los ang\"\n",
        "state = \"Usa\"\n",
        "zip = \"000033\"\n",
        "phone_number = \"3300300\"\n",
        "college_major = \"memestingenier\"\n",
        "\n",
        "message = f\"\"\"\n",
        "Datos del usuario:\n",
        "Nombre: {name}\n",
        "Dirección: {address}\n",
        "Ciudad: {city}\n",
        "Estado: {state}\n",
        "Código ZIP: {zip}\n",
        "Número de Teléfono: {phone_number}\n",
        "Titulo Universitario: {college_major}\n",
        "\"\"\"\n",
        "print(message)"
      ],
      "metadata": {
        "id": "ScnswefvUyPj"
      },
      "execution_count": null,
      "outputs": []
    },
    {
      "cell_type": "code",
      "source": [
        "n1 = float (input(\"n1\"))\n",
        "n2 = float (input(\"n2\"))\n",
        "suma = n1+n2\n",
        "print(suma)"
      ],
      "metadata": {
        "id": "HGJLLhCKXvDL"
      },
      "execution_count": null,
      "outputs": []
    },
    {
      "cell_type": "markdown",
      "source": [
        "## ventas\n",
        "\n",
        "calcular ganancias totales"
      ],
      "metadata": {
        "id": "M85Wn6fKZIAE"
      }
    },
    {
      "cell_type": "code",
      "source": [
        "margin = 0.23\n",
        "sales = float (input(\"ingrese el total de \"))\n",
        "profit = sales * margin\n",
        "print(f\"Las utilidades fueron de {profit}\")"
      ],
      "metadata": {
        "id": "Rf4fUeYeZPXl"
      },
      "execution_count": null,
      "outputs": []
    },
    {
      "cell_type": "markdown",
      "source": [
        "#Calculo de la tierra"
      ],
      "metadata": {
        "id": "ccukwgCcm--0"
      }
    },
    {
      "cell_type": "code",
      "source": [
        "TOTAL_ACRE = 43.500\n",
        "square_feet = float(input(\"Ingrese el total de pies cuadrados: \"))\n",
        "total = square_feet / TOTAL_ACRE\n",
        "print(f\"el total de pies cuadrados: {total}\")"
      ],
      "metadata": {
        "id": "Eew9nQISnDLc"
      },
      "execution_count": null,
      "outputs": []
    },
    {
      "cell_type": "markdown",
      "source": [
        "#TOTAL PURCHASE\n",
        "\n",
        "`\\ salto de linea python`"
      ],
      "metadata": {
        "id": "8lwRoqRlpptU"
      }
    },
    {
      "cell_type": "code",
      "source": [
        "TAX = 6 / 100\n",
        "item_1 =  float(input(\"Ingrese el item 1: \"))\n",
        "item_2 =  float(input(\"Ingrese el item 2: \"))\n",
        "item_3 =  float(input(\"Ingrese el item 3: \"))\n",
        "item_4 =  float(input(\"Ingrese el item 4: \"))\n",
        "item_5 =  float(input(\"Ingrese el item 5: \"))\n",
        "subtotal = item_1 * item_2 * item_3 * item_4 * item_5\n",
        "sales_tax = subtotal * TAX\n",
        "amount = subtotal * sales_tax\n",
        "print(f\"subtotal: ${subtotal} \\nSales Tax: ${sales_tax} \\nTotal: ${amount}\")\n",
        "print(\"-\"*25)"
      ],
      "metadata": {
        "id": "m7UmefkvpmH1"
      },
      "execution_count": null,
      "outputs": []
    },
    {
      "cell_type": "markdown",
      "source": [
        "#Velocidad"
      ],
      "metadata": {
        "id": "b-JBBH_tsrg1"
      }
    },
    {
      "cell_type": "code",
      "source": [
        "SPEED = 60\n",
        "TIME_1 = 5\n",
        "TIME_2 = 8\n",
        "TIME_3 = 12\n",
        "distance_1 = TIME_1 * SPEED\n",
        "distance_2 = TIME_2 * SPEED\n",
        "distance_3 = TIME_3 * SPEED\n",
        "print(f\"Las distancias recorridas a {SPEED} millas/hora son: \")\n",
        "print(f\" {distance_1 } millas en {TIME_1} horas\")\n",
        "print(f\" {distance_2 } millas en {TIME_2} horas\")\n",
        "print(f\" {distance_3 } millas en {TIME_3} horas\")"
      ],
      "metadata": {
        "id": "FvJ6le2qsqxN"
      },
      "execution_count": null,
      "outputs": []
    }
  ],
  "metadata": {
    "colab": {
      "private_outputs": true,
      "provenance": [],
      "include_colab_link": true
    },
    "kernelspec": {
      "display_name": "Python 3 (ipykernel)",
      "language": "python",
      "name": "python3"
    },
    "language_info": {
      "codemirror_mode": {
        "name": "ipython",
        "version": 3
      },
      "file_extension": ".py",
      "mimetype": "text/x-python",
      "name": "python",
      "nbconvert_exporter": "python",
      "pygments_lexer": "ipython3",
      "version": "3.12.1"
    }
  },
  "nbformat": 4,
  "nbformat_minor": 0
}