{
  "cells": [
    {
      "cell_type": "markdown",
      "metadata": {
        "id": "view-in-github",
        "colab_type": "text"
      },
      "source": [
        "<a href=\"https://colab.research.google.com/github/Santiagomt1/introductionupb202410/blob/main/Introduction.ipynb\" target=\"_parent\"><img src=\"https://colab.research.google.com/assets/colab-badge.svg\" alt=\"Open In Colab\"/></a>"
      ]
    },
    {
      "cell_type": "markdown",
      "metadata": {
        "id": "VZA-YfwKnBbc"
      },
      "source": [
        "# Introducción a Python\n",
        "## Fundamentos de Programación\n",
        "### Ingeniería Electrónica UPB Montería (202410)\n",
        "- Docente: Miguel Ortiz\n",
        "- email: miguel.ortizp@upb.edu.co\n",
        "\n",
        "**docente:** asterisco negritas\n",
        "\n",
        "_email:_ guion bajo cursiva\n"
      ]
    },
    {
      "cell_type": "code",
      "execution_count": null,
      "metadata": {
        "id": "egjbI1I1msBR"
      },
      "outputs": [],
      "source": [
        "# Comentarios\n",
        "\n",
        "# Todo lo que aparezca después de un # se considera un comentario\n",
        "# Sirven para:\n",
        "# - Dar información (contexto)\n",
        "# - Ayuda futura / Documentar\n",
        "# - Hacer pruebas"
      ]
    },
    {
      "cell_type": "code",
      "execution_count": null,
      "metadata": {
        "id": "RI65-J3ZnmM1"
      },
      "outputs": [],
      "source": [
        "# Print\n",
        "\n",
        "print(\"Hello World!\")"
      ]
    },
    {
      "cell_type": "code",
      "execution_count": null,
      "metadata": {
        "id": "lH12QuatoC8Q"
      },
      "outputs": [],
      "source": [
        "# Variables String (Básico)\n",
        "\n",
        "name = \"Miguel\"\n",
        "lastname = \"Ortiz\"\n",
        "\n",
        "print(name, lastname)"
      ]
    },
    {
      "cell_type": "code",
      "execution_count": null,
      "metadata": {
        "id": "yWtEsxlioZpx"
      },
      "outputs": [],
      "source": [
        "# Type\n",
        "\n",
        "fullname = \"Miguel Ortiz\"\n",
        "print(type(fullname))"
      ]
    },
    {
      "cell_type": "code",
      "execution_count": null,
      "metadata": {
        "id": "BSNfzn5-osPm"
      },
      "outputs": [],
      "source": [
        "# Más variables\n",
        "\n",
        "n = 5\n",
        "r = 2.14\n",
        "soleado = True\n",
        "pet = \"Perro\"\n",
        "\n",
        "print(type(n))\n",
        "print(type(r))\n",
        "print(type(soleado))\n",
        "print(type(pet))"
      ]
    },
    {
      "cell_type": "code",
      "execution_count": null,
      "metadata": {
        "id": "_dxQ_8FAqewu"
      },
      "outputs": [],
      "source": [
        "a = 3\n",
        "b = -5\n",
        "c = a + b\n",
        "print(c)"
      ]
    },
    {
      "cell_type": "code",
      "execution_count": null,
      "metadata": {
        "id": "Eg40YRe1sDM-"
      },
      "outputs": [],
      "source": [
        "m = 3\n",
        "b = -2\n",
        "x = 5\n",
        "y = m *  x + b\n",
        "print(y)"
      ]
    },
    {
      "cell_type": "markdown",
      "source": [
        "### Titulos: Markdown y Operaciones 28/02/2024\n",
        "\n",
        "Se colocan con : '#'\n",
        "\n",
        "###Estilo de letras\n",
        "\n",
        "Se colocan * o _ sencillos ( para cursivas ) o dobles (para negritas)\n",
        "\n",
        "`como sombreado` las ' ` ' el backtip\n",
        "\n",
        "Bloque de codigo, se utilizan 3 backtip ( al inicio y al final):\n",
        "\n",
        "```python\n",
        "a = 3\n",
        "b = 5\n",
        "c = a + b\n",
        "print(c)\n",
        "```\n",
        "### Salto de línea\n",
        "\n",
        "Utilice `<br>`\n",
        "\n",
        "<!---<br>---> comentario (`<!---tal--->`)\n",
        "\n",
        "y 3 asteriscos (`***`) para la linea horizontal.\n",
        "\n",
        "***\n",
        "\n",
        "### Listas\n",
        "\n",
        "-Ordenadas: con numeros\n",
        "-Desordenadas: con `-` o `*`\n",
        "\n",
        "Ejemplo:\n",
        "- leche\n",
        "- huevo\n",
        "  - cafe\n",
        "  - limon\n",
        "\n",
        "### Enlace (link)\n",
        "\n",
        "<img src=\" url imagen/>\n",
        "\n",
        "### Texto y url para links en texto\n",
        "\n",
        "[github](https://github.com/Santiagomt1/introductionupb202410)\n",
        "\n",
        "### LaTeX\n",
        "\n",
        "Utilice el signo `$ estilo letra`\n",
        "Para centrar `$$ centrado $$`\n",
        "buscar estilos latex frac raices etc..\n",
        "\n",
        "Ejemplo:\n",
        "\n",
        "La ecuacion que relaciona el voltaje $V$ en una resistencia $R$ con su corriente $I$ se conoce como la Ley de Ohm:\n",
        "$$V = RI$$"
      ],
      "metadata": {
        "id": "vXJqhJY-y_hU"
      }
    },
    {
      "cell_type": "code",
      "source": [
        "# continuación - Operaciones con números\n",
        "\n",
        "# Suma\n",
        "a = 3\n",
        "b = -4\n",
        "c = a + b\n",
        "print(a)\n",
        "\n",
        "# Resta\n",
        "d = 5\n",
        "e = 7\n",
        "f = d - e\n",
        "print(f)\n",
        "# Multiplicación\n",
        "a = b * c # reasignación de variables\n",
        "print(a)\n",
        "\n",
        "# Division\n",
        "a = b / a  #division entera // y normal /\n",
        "print(a)\n",
        "\n",
        "# Modulo\n",
        "a = 6\n",
        "a = a % 2\n",
        "print (a)\n",
        "\n",
        "# Potencia ^ con **\n",
        "a = 8\n",
        "print(a ** 2)\n",
        "print (a ** 3)\n",
        "print (a ** (1/2)) #raiz cuadrada\n",
        "print (a ** (1/3)) # raiz cubica\n"
      ],
      "metadata": {
        "id": "UHO3qkqG9J3-"
      },
      "execution_count": null,
      "outputs": []
    },
    {
      "cell_type": "code",
      "source": [
        "# Concatenar\n",
        "\n",
        "firstname = \"Miguel\"\n",
        "lastname = \"Ortiz\"\n",
        "fullname = lastname + \" , \"+ firstname\n",
        "print(fullname)"
      ],
      "metadata": {
        "id": "Q0QMGC4E-22O"
      },
      "execution_count": null,
      "outputs": []
    },
    {
      "cell_type": "code",
      "source": [
        "# += toma la variable de la izquierda que tengo y la incrementa a la derecha\n",
        "\n",
        "a = 5\n",
        "a += 10\n",
        "print(a)\n",
        "a -= 8\n",
        "a *= 3\n",
        "a /= 2\n",
        "a **= 2 #potencia igual\n",
        "print(a)"
      ],
      "metadata": {
        "id": "9bbLiJDE_b8u"
      },
      "execution_count": null,
      "outputs": []
    },
    {
      "cell_type": "code",
      "source": [
        "#texto largo multilinea\n",
        "\n",
        "texto = \"\"\"Lorem Ipsum es simplemente el texto de relleno de las\n",
        "imprentas y archivos de texto. Lorem Ipsum ha sido el texto de relleno\n",
        "estándar de las industrias desde el año 1500, cuando un impresor (N. del T\n",
        "persona que se dedica a la imprenta) desconocido usó una galería de textos\n",
        "y los mezcló de tal manera que logró hacer un libro de textos especimen.\"\"\"\n",
        "print(texto)"
      ],
      "metadata": {
        "id": "7DOLiDGxAU70"
      },
      "execution_count": null,
      "outputs": []
    },
    {
      "cell_type": "markdown",
      "source": [
        "# Expresiones booleanas\n",
        "Son aquellas que se evalúan como **True o False**. El computador no entiende las opiniones."
      ],
      "metadata": {
        "id": "3F5yyPodJVN5"
      }
    },
    {
      "cell_type": "code",
      "source": [
        "a = 3\n",
        "b = 5\n",
        "\n",
        "print(a == b)  #igualdad\n",
        "print(a != b)  #diferencia\n",
        "print(a > b)\n",
        "print(a < b)\n",
        "print(a >= b)\n",
        "print(a <= b)\n",
        "\n",
        "c = a == b\n",
        "print(c)\n",
        "\n",
        "a =? #simbolo de ayuda"
      ],
      "metadata": {
        "id": "Bv6aZNcVJlPR"
      },
      "execution_count": null,
      "outputs": []
    },
    {
      "cell_type": "markdown",
      "source": [
        "## Operadores Booleanos\n",
        "\n",
        "Se utilizan para realizar operaciones entre expresiones booleanas. Son `and`, `or`, `not`.\n"
      ],
      "metadata": {
        "id": "7mh7qM5RKlNq"
      }
    },
    {
      "cell_type": "code",
      "source": [
        "# Not = inviertalo si es true lo hace false y lo contrario: 1 entrada\n",
        "#not: 1 entreda #and: 2 entradas #or: 2 entradas\n",
        "# op booleanas\n",
        "\n",
        "a = 2\n",
        "b = 3\n",
        "\n",
        "# not\n",
        "\n",
        "d = not a == b\n",
        "c = not a == b\n",
        "print(d, c)\n",
        "\n",
        "# and\n",
        "e = d and not c\n",
        "print(d, c, e)\n",
        "\n",
        "#or\n",
        "\n",
        "e = d or c\n",
        "print(e)"
      ],
      "metadata": {
        "id": "pt_k2DKeKdai"
      },
      "execution_count": null,
      "outputs": []
    },
    {
      "cell_type": "markdown",
      "source": [
        "# Inputs\n",
        "\n",
        "Son las entradas de usuario por consola."
      ],
      "metadata": {
        "id": "FuIXZcGUQGwq"
      }
    },
    {
      "cell_type": "code",
      "source": [
        "#inputs\n",
        "\n",
        "firstname = input(\"Nombre: \")\n",
        "lastname = input(\"Apellido: \")\n",
        "fullname = firstname + \" \" + lastname\n",
        "print(\"Hola,\", fullname, \"¡Bienvenido a Python!\")"
      ],
      "metadata": {
        "id": "bVRaqf6dQOSK"
      },
      "execution_count": null,
      "outputs": []
    },
    {
      "cell_type": "markdown",
      "source": [
        "## Ejercicios\n",
        "\n",
        "1. Personal information (Gaddis):\n",
        "\n",
        "\n",
        "#comentar todo ctrl k + c"
      ],
      "metadata": {
        "id": "-504dEVHUMEc"
      }
    },
    {
      "cell_type": "code",
      "source": [
        "# name = input(\"Ingrese su nombre: \")\n",
        "# address = input(\"Ingrese su dirección: \")\n",
        "# city = input(\"Ingrese su ciudad: \")\n",
        "# state = input(\"Ingrese su estado: \")\n",
        "# zip = input(\"Ingrese su código Zip: \")\n",
        "# phone_number = = input(\"Ingrese su numero de telefono: \")\n",
        "# college_major = input(\"Ingrese su titulo universitario: \")\n",
        "\n",
        "name = \"Elver\"\n",
        "address = \"Av los angel\"\n",
        "city = \"los ang\"\n",
        "state = \"Usa\"\n",
        "zip = \"000033\"\n",
        "phone_number = \"3300300\"\n",
        "college_major = \"memestingenier\"\n",
        "\n",
        "message = f\"\"\"\n",
        "Datos del usuario:\n",
        "Nombre: {name}\n",
        "Dirección: {address}\n",
        "Ciudad: {city}\n",
        "Estado: {state}\n",
        "Código ZIP: {zip}\n",
        "Número de Teléfono: {phone_number}\n",
        "Titulo Universitario: {college_major}\n",
        "\"\"\"\n",
        "print(message)"
      ],
      "metadata": {
        "id": "ScnswefvUyPj"
      },
      "execution_count": null,
      "outputs": []
    },
    {
      "cell_type": "code",
      "source": [
        "n1 = float (input(\"n1\"))\n",
        "n2 = float (input(\"n2\"))\n",
        "suma = n1+n2\n",
        "print(suma)"
      ],
      "metadata": {
        "id": "HGJLLhCKXvDL"
      },
      "execution_count": null,
      "outputs": []
    },
    {
      "cell_type": "markdown",
      "source": [
        "## ventas\n",
        "\n",
        "calcular ganancias totales"
      ],
      "metadata": {
        "id": "M85Wn6fKZIAE"
      }
    },
    {
      "cell_type": "code",
      "source": [
        "# Sales Prediction\n",
        "# A company has determined that its annual profit is typically 23 percent of total\n",
        "# sales. Design a program that asks the user to enter the projected amount of total\n",
        "# sales, and then displays the profit that will be made from that amount.\n",
        "# Hint: Use the value 0.23 to represent 23 percent.\n",
        "\n",
        "# Program Sales_Prediction\n",
        "# // Programa para la calcular las ganancias totales a partir de las ventas\n",
        "# Start\n",
        "\n",
        "# \tDeclare Real sales, profit\n",
        "# \tConstant Real margin = 0.23\n",
        "\n",
        "# \tDisplay \"Ingresa el monto total de las ventas: \"\n",
        "# \tInput sales\n",
        "\n",
        "# \tSet profit = sales * margin\n",
        "\n",
        "# \tDisplay \"Las utilidades fueron de \", profit\n",
        "\n",
        "# Stop\n",
        "\n",
        "margin = 0.23\n",
        "sales = float (input(\"ingrese el total de \"))\n",
        "profit = sales * margin\n",
        "print(f\"Las utilidades fueron de {profit}\")"
      ],
      "metadata": {
        "id": "Rf4fUeYeZPXl"
      },
      "execution_count": null,
      "outputs": []
    },
    {
      "cell_type": "markdown",
      "source": [
        "#Calculo de la tierra"
      ],
      "metadata": {
        "id": "ccukwgCcm--0"
      }
    },
    {
      "cell_type": "code",
      "source": [
        "# Land Calculation\n",
        "# One acre of land is equivalent to 43,560 square feet. Design a program that asks\n",
        "# the user to enter the total square feet in a tract of land and calculates the number\n",
        "# of acres in the tract.\n",
        "\n",
        "# Program land_calculation\n",
        "# // Program for calculating the total acres in a tract of land given the area in square feet\n",
        "\n",
        "# Start\n",
        "\n",
        "# \tDeclare Real square_feet, total\n",
        "# \tConstant Real TOTAL_ACRE = 43560\n",
        "\n",
        "# \tDisplay \"Insert the total number of square feet in the tract: \"\n",
        "# \tInput square_feet\n",
        "\n",
        "# \tSet total = square_feet / TOTAL_ACRE\n",
        "\n",
        "# \tDisplay \"The total number of acres in the tract is: \", total\n",
        "\n",
        "# Stop\n",
        "\n",
        "\n",
        "TOTAL_ACRE = 43.500\n",
        "square_feet = float(input(\"Ingrese el total de pies cuadrados: \"))\n",
        "total = square_feet / TOTAL_ACRE\n",
        "print(f\"el total de pies cuadrados: {total}\")"
      ],
      "metadata": {
        "id": "Eew9nQISnDLc"
      },
      "execution_count": null,
      "outputs": []
    },
    {
      "cell_type": "markdown",
      "source": [
        "#TOTAL PURCHASE\n",
        "\n",
        "`\\ salto de linea python`"
      ],
      "metadata": {
        "id": "8lwRoqRlpptU"
      }
    },
    {
      "cell_type": "code",
      "source": [
        "# Total Purchase\n",
        "# A customer in a store is purchasing five items. Design a program that asks for the\n",
        "# price of each item, and then displays the subtotal of the sale, the amount of sales\n",
        "# tax, and the total. Assume the sales tax is 6 percent.\n",
        "\n",
        "# Program Total_Purchase\n",
        "# // programa  para calcular precios\n",
        "\n",
        "# Start\n",
        "\n",
        "# \tDeclare Real item_price, sales_tax, amount\n",
        "# \tDeclare Real subtotal = 0\n",
        "# \tConstant Real TAX = 0.06\n",
        "\n",
        "# \tFor counter = 1 To 5:\n",
        "# \t\tInput item_price\n",
        "# \t\tSet subtotal = subtotal + item_price\n",
        "# \tEnd For\n",
        "\n",
        "# \tSet sales_tax = subtotal * TAX\n",
        "# \tSet amount = subtotal + sales_tax\n",
        "\n",
        "# \tDisplay subtotal, sales_tax, amount\n",
        "\n",
        "# Stop\n",
        "\n",
        "TAX = 6 / 100\n",
        "item_1 =  float(input(\"Ingrese el item 1: \"))\n",
        "item_2 =  float(input(\"Ingrese el item 2: \"))\n",
        "item_3 =  float(input(\"Ingrese el item 3: \"))\n",
        "item_4 =  float(input(\"Ingrese el item 4: \"))\n",
        "item_5 =  float(input(\"Ingrese el item 5: \"))\n",
        "subtotal = item_1 * item_2 * item_3 * item_4 * item_5\n",
        "sales_tax = subtotal * TAX\n",
        "amount = subtotal * sales_tax\n",
        "print(f\"subtotal: ${subtotal} \\nSales Tax: ${sales_tax} \\nTotal: ${amount}\")\n",
        "print(\"-\"*25)"
      ],
      "metadata": {
        "id": "m7UmefkvpmH1"
      },
      "execution_count": null,
      "outputs": []
    },
    {
      "cell_type": "markdown",
      "source": [
        "#Velocidad\n",
        "\n",
        "caracter especial `\\\"algo\"\\`\n",
        "tab `\\r\\`"
      ],
      "metadata": {
        "id": "b-JBBH_tsrg1"
      }
    },
    {
      "cell_type": "code",
      "source": [
        "# Distance Traveled\n",
        "# Assuming there are no accidents or delays, the distance that a car travels down the\n",
        "# interstate can be calculated with the following formula:\n",
        "# Distance = Speed × Time\n",
        "# A car is traveling at 60 miles per hour. Design a program that displays the following:\n",
        "# ● The distance the car will travel in 5 hours\n",
        "# ● The distance the car will travel in 8 hours\n",
        "# ● The distance the car will travel in 12 hours\n",
        "\n",
        "# Program distance_traveled\n",
        "# // Programa para calcular la distancia recorrida por un vehículo dado el tiempo de viaje\n",
        "\n",
        "# Start\n",
        "\n",
        "# \t// Declaración de variables\n",
        "# \tDeclare Real distance_1, distance_2, distance_3\n",
        "\n",
        "# \t// Declaracion de constantes\n",
        "# \tConstant Real SPEED = 60 // velocidad en millas por hora\n",
        "# \tConstant Real TIME_1 = 5 // duración 1 en horas\n",
        "# \tConstant Real TIME_2 = 8 // duración 2 en horas\n",
        "# \tConstant Real TIME_3 = 12 // duración 3 en horas\n",
        "\n",
        "# \t// Proceso\n",
        "# \tSet distance_1 = TIME_1 * SPEED\n",
        "# \tSet distance_2 = TIME_2 * SPEED\n",
        "# \tSet distance_3 = TIME_3 * SPEED\n",
        "\n",
        "# \tDisplay distance_1, distance_2, distance_3\n",
        "\n",
        "# Stop\n",
        "\n",
        "SPEED = 60\n",
        "TIME_1 = 5\n",
        "TIME_2 = 8\n",
        "TIME_3 = 12\n",
        "distance_1 = TIME_1 * SPEED\n",
        "distance_2 = TIME_2 * SPEED\n",
        "distance_3 = TIME_3 * SPEED\n",
        "print(f\"Las distancias recorridas a {SPEED} millas/hora son: \")\n",
        "print(f\" - {distance_1 } millas en {TIME_1} horas\")\n",
        "print(f\" - {distance_2 } millas en {TIME_2} horas\")\n",
        "print(f\" - {distance_3 } millas en {TIME_3} horas\")"
      ],
      "metadata": {
        "id": "FvJ6le2qsqxN"
      },
      "execution_count": null,
      "outputs": []
    },
    {
      "cell_type": "code",
      "source": [
        "print(\"Va pa' esa\")\n",
        "print('Va pa\\' esa')\n",
        "print(\"El profe dijo que eso estaba \\t\\\"fácil\\\"\")"
      ],
      "metadata": {
        "id": "ST1CVnC3yV34"
      },
      "execution_count": null,
      "outputs": []
    },
    {
      "cell_type": "markdown",
      "source": [
        "#SALES TAX"
      ],
      "metadata": {
        "id": "p3yVcMrVuSWV"
      }
    },
    {
      "cell_type": "code",
      "source": [
        "# Sales Tax\n",
        "# Design a program that will ask the user to enter the amount of a purchase. The\n",
        "# program should then compute the state and county sales tax. Assume the state\n",
        "# sales tax is 4 percent and the county sales tax is 2 percent. The program should display\n",
        "# the amount of the purchase, the state sales tax, the county sales tax, the total\n",
        "# sales tax, and the total of the sale (which is the sum of the amount of purchase plus\n",
        "# the total sales tax).\n",
        "# Hint: Use the value 0.02 to represent 2 percent, and 0.04 to represent 4 percent.\n",
        "\n",
        "# Program sales_tax\n",
        "# Start\n",
        "#   Declare Real purchase, state_sales_tax, county_sales_tax, total_sales_tax, total_sale\n",
        "#   Constant Real STATE_TAX = 0.04\n",
        "#   Constant Real COUNTY_TAX = 0.02\n",
        "\n",
        "#   Input purchase\n",
        "#   Set state_sales_tax = purchase  * STATE_TAX\n",
        "#   Set county_sales_tax = purchase  * COUNTY_TAX\n",
        "#   Set total_sales_tax = state_sales_tax + county_sales_tax\n",
        "#   Set total_sale = purchase + total_sales_tax\n",
        "#   Display purchase, state_sales_tax, county_sales_tax, total_sales_tax, total_sale\n",
        "# Stop\n",
        "\n",
        "\n",
        "STATE_TAX = 0.04\n",
        "COUNTY_TAX = 0.02\n",
        "purchase = float(input(\"Ingrese el valor de las compras: $\"))\n",
        "state_sales_tax = purchase  * STATE_TAX\n",
        "county_sales_tax = purchase  * COUNTY_TAX\n",
        "total_sales_tax = state_sales_tax + county_sales_tax\n",
        "total_sale = purchase + total_sales_tax\n",
        "print(\"-\" * 20)\n",
        "print(f\"Total Compra: ${purchase}\\nImpuestos de Estado: ${state_sales_tax}\\nImpuesto de Condado: ${county_sales_tax}\\nTotal Impuestos: ${total_sales_tax}\\nVenta Total: ${total_sale}\")\n",
        "print(\"-\" * 20)"
      ],
      "metadata": {
        "id": "8_umEGWyuR_F"
      },
      "execution_count": null,
      "outputs": []
    },
    {
      "cell_type": "code",
      "source": [
        "#calcular\n",
        "a = float(input(\"ingresa a: \"))\n",
        "b = float(input(\"ingresa b: \"))\n",
        "if a != 0:\n",
        "  x = (-b/a)\n",
        "  print(f\"la ecuacion x = {x} \")\n",
        "else:\n",
        "    if b != 0:\n",
        "      print(\"imposible\")\n",
        "    else:\n",
        "      print(\"indeterminante\")"
      ],
      "metadata": {
        "id": "FqH_oOu3yav3"
      },
      "execution_count": null,
      "outputs": []
    },
    {
      "cell_type": "code",
      "source": [
        "#calcular\n",
        "a = float(input(\"ingresa a: \"))\n",
        "b = float(input(\"ingresa b: \"))\n",
        "if a != 0:\n",
        "  x = (-b/a)\n",
        "  print(f\"la ecuacion x = {x} \")\n",
        "else:\n",
        "    if b != 0:\n",
        "      print(\"imposible\")\n",
        "    else:\n",
        "      print(\"indeterminante\")"
      ],
      "metadata": {
        "id": "X-wTMVhyOO6a"
      },
      "execution_count": null,
      "outputs": []
    },
    {
      "cell_type": "code",
      "source": [
        "TASA_TARIFA_EXTRA = 0.5\n",
        "IMP_BASE = 0.2\n",
        "IMP_EXTRA = 0.3\n",
        "# horas = 35\n",
        "# tarifa = 75\n",
        "# nombre = \"mike\"\n",
        "\n",
        "horas = float(input(\"ingreso el numero de horas: \"))\n",
        "tarifa = float(input(\"ingreso el valor de la tarifa: \"))\n",
        "nombre = (input(\"ingreso el nombre del trabajador: \"))\n",
        "\n",
        "if horas <= 35:\n",
        "   salario_bruto = horas * tarifa\n",
        "else:\n",
        "  horas_extras = horas - 35\n",
        "  tarifa_extra = tarifa * (1 + TASA_TARIFA_EXTRA)\n",
        "  salario_bruto = tarifa * 35 + horas_extras * tarifa_extra\n",
        "\n",
        "if salario_bruto <= 2200:\n",
        "  impuesto = 0\n",
        "else:\n",
        "  if salario_bruto <= 2420:\n",
        "    impuesto = 220 * IMP_BASE\n",
        "  else:\n",
        "    impuesto = 220 * IMP_BASE + (salario_bruto - 2420) * IMP_EXTRA\n",
        "\n",
        "salario_neto = salario_bruto + impuesto\n",
        "print(f\"El trabajador {nombre} debe recibir ${salario_neto}.\")"
      ],
      "metadata": {
        "id": "1LiYkNR88bsZ"
      },
      "execution_count": null,
      "outputs": []
    },
    {
      "cell_type": "code",
      "source": [
        "35 * 50 + (40 - 35)*50 * 1.5"
      ],
      "metadata": {
        "id": "WVqIg4ZWQYWb"
      },
      "execution_count": null,
      "outputs": []
    },
    {
      "cell_type": "code",
      "source": [
        "a = float(input(\"ingrese a : \"))\n",
        "a = float(input(\"ingrese b : \"))\n",
        "a = float(input(\"ingrese c : \"))\n",
        "\n",
        "if a > b:\n"
      ],
      "metadata": {
        "id": "hjNxS17vAOv5"
      },
      "execution_count": null,
      "outputs": []
    },
    {
      "cell_type": "markdown",
      "source": [
        "#sentencias\n",
        "\n",
        "if,\n",
        "elif : dentro del if,\n",
        "else,\n",
        "operador ternario \"ternary operator\"\n",
        "\n",
        "`value true if condicion else value false`\n"
      ],
      "metadata": {
        "id": "RBPlwQujLMHk"
      }
    },
    {
      "cell_type": "code",
      "source": [],
      "metadata": {
        "id": "VGfbjq3AM466"
      },
      "execution_count": null,
      "outputs": []
    }
  ],
  "metadata": {
    "colab": {
      "private_outputs": true,
      "provenance": [],
      "include_colab_link": true
    },
    "kernelspec": {
      "display_name": "Python 3 (ipykernel)",
      "language": "python",
      "name": "python3"
    },
    "language_info": {
      "codemirror_mode": {
        "name": "ipython",
        "version": 3
      },
      "file_extension": ".py",
      "mimetype": "text/x-python",
      "name": "python",
      "nbconvert_exporter": "python",
      "pygments_lexer": "ipython3",
      "version": "3.12.1"
    }
  },
  "nbformat": 4,
  "nbformat_minor": 0
}