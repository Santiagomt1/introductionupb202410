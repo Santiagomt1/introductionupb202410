{
  "cells": [
    {
      "cell_type": "markdown",
      "metadata": {
        "id": "view-in-github",
        "colab_type": "text"
      },
      "source": [
        "<a href=\"https://colab.research.google.com/github/Santiagomt1/introductionupb202410/blob/main/Introduction.ipynb\" target=\"_parent\"><img src=\"https://colab.research.google.com/assets/colab-badge.svg\" alt=\"Open In Colab\"/></a>"
      ]
    },
    {
      "cell_type": "markdown",
      "metadata": {
        "id": "VZA-YfwKnBbc"
      },
      "source": [
        "# Introducción a Python\n",
        "## Fundamentos de Programación\n",
        "### Ingeniería Electrónica UPB Montería (202410)\n",
        "- Docente: Miguel Ortiz\n",
        "- email: miguel.ortizp@upb.edu.co\n",
        "\n",
        "**docente:** asterisco negritas\n",
        "\n",
        "_email:_ guion bajo cursiva\n"
      ]
    },
    {
      "cell_type": "code",
      "execution_count": null,
      "metadata": {
        "id": "egjbI1I1msBR"
      },
      "outputs": [],
      "source": [
        "# Comentarios\n",
        "\n",
        "# Todo lo que aparezca después de un # se considera un comentario\n",
        "# Sirven para:\n",
        "# - Dar información (contexto)\n",
        "# - Ayuda futura / Documentar\n",
        "# - Hacer pruebas"
      ]
    },
    {
      "cell_type": "code",
      "execution_count": null,
      "metadata": {
        "id": "RI65-J3ZnmM1"
      },
      "outputs": [],
      "source": [
        "# Print\n",
        "\n",
        "print(\"Hello World!\")"
      ]
    },
    {
      "cell_type": "code",
      "execution_count": null,
      "metadata": {
        "id": "lH12QuatoC8Q"
      },
      "outputs": [],
      "source": [
        "# Variables String (Básico)\n",
        "\n",
        "name = \"Miguel\"\n",
        "lastname = \"Ortiz\"\n",
        "\n",
        "print(name, lastname)"
      ]
    },
    {
      "cell_type": "code",
      "execution_count": null,
      "metadata": {
        "id": "yWtEsxlioZpx"
      },
      "outputs": [],
      "source": [
        "# Type\n",
        "\n",
        "fullname = \"Miguel Ortiz\"\n",
        "print(type(fullname))"
      ]
    },
    {
      "cell_type": "code",
      "execution_count": null,
      "metadata": {
        "id": "BSNfzn5-osPm"
      },
      "outputs": [],
      "source": [
        "# Más variables\n",
        "\n",
        "n = 5\n",
        "r = 2.14\n",
        "soleado = True\n",
        "pet = \"Perro\"\n",
        "\n",
        "print(type(n))\n",
        "print(type(r))\n",
        "print(type(soleado))\n",
        "print(type(pet))"
      ]
    },
    {
      "cell_type": "code",
      "execution_count": null,
      "metadata": {
        "id": "_dxQ_8FAqewu"
      },
      "outputs": [],
      "source": [
        "a = 3\n",
        "b = -5\n",
        "c = a + b\n",
        "print(c)"
      ]
    },
    {
      "cell_type": "code",
      "execution_count": null,
      "metadata": {
        "id": "Eg40YRe1sDM-"
      },
      "outputs": [],
      "source": [
        "m = 3\n",
        "b = -2\n",
        "x = 5\n",
        "y = m *  x + b\n",
        "print(y)"
      ]
    },
    {
      "cell_type": "markdown",
      "source": [
        "### Titulos: Markdown y Operaciones 28/02/2024\n",
        "\n",
        "Se colocan con : '#'\n",
        "\n",
        "###Estilo de letras\n",
        "\n",
        "Se colocan * o _ sencillos ( para cursivas ) o dobles (para negritas)\n",
        "\n",
        "`como sombreado` las ' ` ' el backtip\n",
        "\n",
        "Bloque de codigo, se utilizan 3 backtip ( al inicio y al final):\n",
        "\n",
        "```python\n",
        "a = 3\n",
        "b = 5\n",
        "c = a + b\n",
        "print(c)\n",
        "```\n",
        "### Salto de línea\n",
        "\n",
        "Utilice `<br>`\n",
        "\n",
        "<!---<br>---> comentario (`<!---tal--->`)\n",
        "\n",
        "y 3 asteriscos (`***`) para la linea horizontal.\n",
        "\n",
        "***\n",
        "\n",
        "### Listas\n",
        "\n",
        "-Ordenadas: con numeros\n",
        "-Desordenadas: con `-` o `*`\n",
        "\n",
        "Ejemplo:\n",
        "- leche\n",
        "- huevo\n",
        "  - cafe\n",
        "  - limon\n",
        "\n",
        "### Enlace (link)\n",
        "\n",
        "<img src=\" url imagen/>\n",
        "\n",
        "### Texto y url para links en texto\n",
        "\n",
        "[github](https://github.com/Santiagomt1/introductionupb202410)\n",
        "\n",
        "### LaTeX\n",
        "\n",
        "Utilice el signo `$ estilo letra`\n",
        "Para centrar `$$ centrado $$`\n",
        "buscar estilos latex frac raices etc..\n",
        "\n",
        "Ejemplo:\n",
        "\n",
        "La ecuacion que relaciona el voltaje $V$ en una resistencia $R$ con su corriente $I$ se conoce como la Ley de Ohm:\n",
        "$$V = RI$$"
      ],
      "metadata": {
        "id": "vXJqhJY-y_hU"
      }
    },
    {
      "cell_type": "code",
      "source": [
        "# continuación - Operaciones con números\n",
        "\n",
        "# Suma\n",
        "a = 3\n",
        "b = -4\n",
        "c = a + b\n",
        "print(a)\n",
        "\n",
        "# Resta\n",
        "d = 5\n",
        "e = 7\n",
        "f = d - e\n",
        "print(f)\n",
        "# Multiplicación\n",
        "a = b * c # reasignación de variables\n",
        "print(a)\n",
        "\n",
        "# Division\n",
        "a = b / a  #division entera // y normal /\n",
        "print(a)\n",
        "\n",
        "# Modulo\n",
        "a = 6\n",
        "a = a % 2\n",
        "print (a)\n",
        "\n",
        "# Potencia ^ con **\n",
        "a = 8\n",
        "print(a ** 2)\n",
        "print (a ** 3)\n",
        "print (a ** (1/2)) #raiz cuadrada\n",
        "print (a ** (1/3)) # raiz cubica\n"
      ],
      "metadata": {
        "id": "UHO3qkqG9J3-"
      },
      "execution_count": null,
      "outputs": []
    },
    {
      "cell_type": "code",
      "source": [
        "# Concatenar\n",
        "\n",
        "firstname = \"Miguel\"\n",
        "lastname = \"Ortiz\"\n",
        "fullname = lastname + \" , \"+ firstname\n",
        "print(fullname)"
      ],
      "metadata": {
        "id": "Q0QMGC4E-22O"
      },
      "execution_count": null,
      "outputs": []
    },
    {
      "cell_type": "code",
      "source": [
        "# += toma la variable de la izquierda que tengo y la incrementa a la derecha\n",
        "\n",
        "a = 5\n",
        "a += 10\n",
        "print(a)\n",
        "a -= 8\n",
        "a *= 3\n",
        "a /= 2\n",
        "a **= 2 #potencia igual\n",
        "print(a)"
      ],
      "metadata": {
        "id": "9bbLiJDE_b8u"
      },
      "execution_count": null,
      "outputs": []
    },
    {
      "cell_type": "code",
      "source": [
        "#texto largo multilinea\n",
        "\n",
        "texto = \"\"\"Lorem Ipsum es simplemente el texto de relleno de las\n",
        "imprentas y archivos de texto. Lorem Ipsum ha sido el texto de relleno\n",
        "estándar de las industrias desde el año 1500, cuando un impresor (N. del T\n",
        "persona que se dedica a la imprenta) desconocido usó una galería de textos\n",
        "y los mezcló de tal manera que logró hacer un libro de textos especimen.\"\"\"\n",
        "print(texto)"
      ],
      "metadata": {
        "id": "7DOLiDGxAU70"
      },
      "execution_count": null,
      "outputs": []
    },
    {
      "cell_type": "markdown",
      "source": [
        "# Expresiones booleanas\n",
        "Son aquellas que se evalúan como **True o False**. El computador no entiende las opiniones."
      ],
      "metadata": {
        "id": "3F5yyPodJVN5"
      }
    },
    {
      "cell_type": "code",
      "source": [
        "a = 3\n",
        "b = 5\n",
        "\n",
        "print(a == b)  #igualdad\n",
        "print(a != b)  #diferencia\n",
        "print(a > b)\n",
        "print(a < b)\n",
        "print(a >= b)\n",
        "print(a <= b)\n",
        "\n",
        "c = a == b\n",
        "print(c)\n",
        "\n",
        "a =? #simbolo de ayuda"
      ],
      "metadata": {
        "id": "Bv6aZNcVJlPR"
      },
      "execution_count": null,
      "outputs": []
    },
    {
      "cell_type": "markdown",
      "source": [
        "## Operadores Booleanos\n",
        "\n",
        "Se utilizan para realizar operaciones entre expresiones booleanas. Son `and`, `or`, `not`.\n"
      ],
      "metadata": {
        "id": "7mh7qM5RKlNq"
      }
    },
    {
      "cell_type": "code",
      "source": [
        "# Not = inviertalo si es true lo hace false y lo contrario: 1 entrada\n",
        "#not: 1 entreda #and: 2 entradas #or: 2 entradas\n",
        "# op booleanas\n",
        "\n",
        "a = 2\n",
        "b = 3\n",
        "\n",
        "# not\n",
        "\n",
        "d = not a == b\n",
        "c = not a == b\n",
        "print(d, c)\n",
        "\n",
        "# and\n",
        "e = d and not c\n",
        "print(d, c, e)\n",
        "\n",
        "#or\n",
        "\n",
        "e = d or c\n",
        "print(e)"
      ],
      "metadata": {
        "id": "pt_k2DKeKdai"
      },
      "execution_count": null,
      "outputs": []
    },
    {
      "cell_type": "markdown",
      "source": [
        "# Inputs\n",
        "\n",
        "Son las entradas de usuario por consola."
      ],
      "metadata": {
        "id": "FuIXZcGUQGwq"
      }
    },
    {
      "cell_type": "code",
      "source": [
        "#inputs\n",
        "\n",
        "firstname = input(\"Nombre: \")\n",
        "lastname = input(\"Apellido: \")\n",
        "fullname = firstname + \" \" + lastname\n",
        "print(\"Hola,\", fullname, \"¡Bienvenido a Python!\")"
      ],
      "metadata": {
        "id": "bVRaqf6dQOSK"
      },
      "execution_count": null,
      "outputs": []
    },
    {
      "cell_type": "markdown",
      "source": [
        "## Ejercicios\n",
        "\n",
        "1. Personal information (Gaddis):\n",
        "\n",
        "\n",
        "#comentar todo ctrl k + c"
      ],
      "metadata": {
        "id": "-504dEVHUMEc"
      }
    },
    {
      "cell_type": "code",
      "source": [
        "# name = input(\"Ingrese su nombre: \")\n",
        "# address = input(\"Ingrese su dirección: \")\n",
        "# city = input(\"Ingrese su ciudad: \")\n",
        "# state = input(\"Ingrese su estado: \")\n",
        "# zip = input(\"Ingrese su código Zip: \")\n",
        "# phone_number = = input(\"Ingrese su numero de telefono: \")\n",
        "# college_major = input(\"Ingrese su titulo universitario: \")\n",
        "\n",
        "name = \"Elver\"\n",
        "address = \"Av los angel\"\n",
        "city = \"los ang\"\n",
        "state = \"Usa\"\n",
        "zip = \"000033\"\n",
        "phone_number = \"3300300\"\n",
        "college_major = \"memestingenier\"\n",
        "\n",
        "message = f\"\"\"\n",
        "Datos del usuario:\n",
        "Nombre: {name}\n",
        "Dirección: {address}\n",
        "Ciudad: {city}\n",
        "Estado: {state}\n",
        "Código ZIP: {zip}\n",
        "Número de Teléfono: {phone_number}\n",
        "Titulo Universitario: {college_major}\n",
        "\"\"\"\n",
        "print(message)"
      ],
      "metadata": {
        "id": "ScnswefvUyPj"
      },
      "execution_count": null,
      "outputs": []
    },
    {
      "cell_type": "code",
      "source": [
        "n1 = float (input(\"n1\"))\n",
        "n2 = float (input(\"n2\"))\n",
        "suma = n1+n2\n",
        "print(suma)"
      ],
      "metadata": {
        "id": "HGJLLhCKXvDL"
      },
      "execution_count": null,
      "outputs": []
    },
    {
      "cell_type": "markdown",
      "source": [
        "## ventas\n",
        "\n",
        "calcular ganancias totales"
      ],
      "metadata": {
        "id": "M85Wn6fKZIAE"
      }
    },
    {
      "cell_type": "code",
      "source": [
        "# Sales Prediction\n",
        "# A company has determined that its annual profit is typically 23 percent of total\n",
        "# sales. Design a program that asks the user to enter the projected amount of total\n",
        "# sales, and then displays the profit that will be made from that amount.\n",
        "# Hint: Use the value 0.23 to represent 23 percent.\n",
        "\n",
        "# Program Sales_Prediction\n",
        "# // Programa para la calcular las ganancias totales a partir de las ventas\n",
        "# Start\n",
        "\n",
        "# \tDeclare Real sales, profit\n",
        "# \tConstant Real margin = 0.23\n",
        "\n",
        "# \tDisplay \"Ingresa el monto total de las ventas: \"\n",
        "# \tInput sales\n",
        "\n",
        "# \tSet profit = sales * margin\n",
        "\n",
        "# \tDisplay \"Las utilidades fueron de \", profit\n",
        "\n",
        "# Stop\n",
        "\n",
        "margin = 0.23\n",
        "sales = float (input(\"ingrese el total de \"))\n",
        "profit = sales * margin\n",
        "print(f\"Las utilidades fueron de {profit}\")"
      ],
      "metadata": {
        "id": "Rf4fUeYeZPXl"
      },
      "execution_count": null,
      "outputs": []
    },
    {
      "cell_type": "markdown",
      "source": [
        "#Calculo de la tierra"
      ],
      "metadata": {
        "id": "ccukwgCcm--0"
      }
    },
    {
      "cell_type": "code",
      "source": [
        "# Land Calculation\n",
        "# One acre of land is equivalent to 43,560 square feet. Design a program that asks\n",
        "# the user to enter the total square feet in a tract of land and calculates the number\n",
        "# of acres in the tract.\n",
        "\n",
        "# Program land_calculation\n",
        "# // Program for calculating the total acres in a tract of land given the area in square feet\n",
        "\n",
        "# Start\n",
        "\n",
        "# \tDeclare Real square_feet, total\n",
        "# \tConstant Real TOTAL_ACRE = 43560\n",
        "\n",
        "# \tDisplay \"Insert the total number of square feet in the tract: \"\n",
        "# \tInput square_feet\n",
        "\n",
        "# \tSet total = square_feet / TOTAL_ACRE\n",
        "\n",
        "# \tDisplay \"The total number of acres in the tract is: \", total\n",
        "\n",
        "# Stop\n",
        "\n",
        "\n",
        "TOTAL_ACRE = 43.500\n",
        "square_feet = float(input(\"Ingrese el total de pies cuadrados: \"))\n",
        "total = square_feet / TOTAL_ACRE\n",
        "print(f\"el total de pies cuadrados: {total}\")"
      ],
      "metadata": {
        "id": "Eew9nQISnDLc"
      },
      "execution_count": null,
      "outputs": []
    },
    {
      "cell_type": "markdown",
      "source": [
        "#TOTAL PURCHASE\n",
        "\n",
        "`\\ salto de linea python`"
      ],
      "metadata": {
        "id": "8lwRoqRlpptU"
      }
    },
    {
      "cell_type": "code",
      "source": [
        "# Total Purchase\n",
        "# A customer in a store is purchasing five items. Design a program that asks for the\n",
        "# price of each item, and then displays the subtotal of the sale, the amount of sales\n",
        "# tax, and the total. Assume the sales tax is 6 percent.\n",
        "\n",
        "# Program Total_Purchase\n",
        "# // programa  para calcular precios\n",
        "\n",
        "# Start\n",
        "\n",
        "# \tDeclare Real item_price, sales_tax, amount\n",
        "# \tDeclare Real subtotal = 0\n",
        "# \tConstant Real TAX = 0.06\n",
        "\n",
        "# \tFor counter = 1 To 5:\n",
        "# \t\tInput item_price\n",
        "# \t\tSet subtotal = subtotal + item_price\n",
        "# \tEnd For\n",
        "\n",
        "# \tSet sales_tax = subtotal * TAX\n",
        "# \tSet amount = subtotal + sales_tax\n",
        "\n",
        "# \tDisplay subtotal, sales_tax, amount\n",
        "\n",
        "# Stop\n",
        "\n",
        "TAX = 6 / 100\n",
        "item_1 =  float(input(\"Ingrese el item 1: \"))\n",
        "item_2 =  float(input(\"Ingrese el item 2: \"))\n",
        "item_3 =  float(input(\"Ingrese el item 3: \"))\n",
        "item_4 =  float(input(\"Ingrese el item 4: \"))\n",
        "item_5 =  float(input(\"Ingrese el item 5: \"))\n",
        "subtotal = item_1 * item_2 * item_3 * item_4 * item_5\n",
        "sales_tax = subtotal * TAX\n",
        "amount = subtotal * sales_tax\n",
        "print(f\"subtotal: ${subtotal} \\nSales Tax: ${sales_tax} \\nTotal: ${amount}\")\n",
        "print(\"-\"*25)"
      ],
      "metadata": {
        "id": "m7UmefkvpmH1"
      },
      "execution_count": null,
      "outputs": []
    },
    {
      "cell_type": "markdown",
      "source": [
        "#Velocidad\n",
        "\n",
        "caracter especial `\\\"algo\"\\`\n",
        "tab `\\r\\`"
      ],
      "metadata": {
        "id": "b-JBBH_tsrg1"
      }
    },
    {
      "cell_type": "code",
      "source": [
        "# Distance Traveled\n",
        "# Assuming there are no accidents or delays, the distance that a car travels down the\n",
        "# interstate can be calculated with the following formula:\n",
        "# Distance = Speed × Time\n",
        "# A car is traveling at 60 miles per hour. Design a program that displays the following:\n",
        "# ● The distance the car will travel in 5 hours\n",
        "# ● The distance the car will travel in 8 hours\n",
        "# ● The distance the car will travel in 12 hours\n",
        "\n",
        "# Program distance_traveled\n",
        "# // Programa para calcular la distancia recorrida por un vehículo dado el tiempo de viaje\n",
        "\n",
        "# Start\n",
        "\n",
        "# \t// Declaración de variables\n",
        "# \tDeclare Real distance_1, distance_2, distance_3\n",
        "\n",
        "# \t// Declaracion de constantes\n",
        "# \tConstant Real SPEED = 60 // velocidad en millas por hora\n",
        "# \tConstant Real TIME_1 = 5 // duración 1 en horas\n",
        "# \tConstant Real TIME_2 = 8 // duración 2 en horas\n",
        "# \tConstant Real TIME_3 = 12 // duración 3 en horas\n",
        "\n",
        "# \t// Proceso\n",
        "# \tSet distance_1 = TIME_1 * SPEED\n",
        "# \tSet distance_2 = TIME_2 * SPEED\n",
        "# \tSet distance_3 = TIME_3 * SPEED\n",
        "\n",
        "# \tDisplay distance_1, distance_2, distance_3\n",
        "\n",
        "# Stop\n",
        "\n",
        "SPEED = 60\n",
        "TIME_1 = 5\n",
        "TIME_2 = 8\n",
        "TIME_3 = 12\n",
        "distance_1 = TIME_1 * SPEED\n",
        "distance_2 = TIME_2 * SPEED\n",
        "distance_3 = TIME_3 * SPEED\n",
        "print(f\"Las distancias recorridas a {SPEED} millas/hora son: \")\n",
        "print(f\" - {distance_1 } millas en {TIME_1} horas\")\n",
        "print(f\" - {distance_2 } millas en {TIME_2} horas\")\n",
        "print(f\" - {distance_3 } millas en {TIME_3} horas\")"
      ],
      "metadata": {
        "id": "FvJ6le2qsqxN"
      },
      "execution_count": null,
      "outputs": []
    },
    {
      "cell_type": "code",
      "source": [
        "print(\"Va pa' esa\")\n",
        "print('Va pa\\' esa')\n",
        "print(\"El profe dijo que eso estaba \\t\\\"fácil\\\"\")"
      ],
      "metadata": {
        "id": "ST1CVnC3yV34"
      },
      "execution_count": null,
      "outputs": []
    },
    {
      "cell_type": "markdown",
      "source": [
        "#SALES TAX"
      ],
      "metadata": {
        "id": "p3yVcMrVuSWV"
      }
    },
    {
      "cell_type": "code",
      "source": [
        "# Sales Tax\n",
        "# Design a program that will ask the user to enter the amount of a purchase. The\n",
        "# program should then compute the state and county sales tax. Assume the state\n",
        "# sales tax is 4 percent and the county sales tax is 2 percent. The program should display\n",
        "# the amount of the purchase, the state sales tax, the county sales tax, the total\n",
        "# sales tax, and the total of the sale (which is the sum of the amount of purchase plus\n",
        "# the total sales tax).\n",
        "# Hint: Use the value 0.02 to represent 2 percent, and 0.04 to represent 4 percent.\n",
        "\n",
        "# Program sales_tax\n",
        "# Start\n",
        "#   Declare Real purchase, state_sales_tax, county_sales_tax, total_sales_tax, total_sale\n",
        "#   Constant Real STATE_TAX = 0.04\n",
        "#   Constant Real COUNTY_TAX = 0.02\n",
        "\n",
        "#   Input purchase\n",
        "#   Set state_sales_tax = purchase  * STATE_TAX\n",
        "#   Set county_sales_tax = purchase  * COUNTY_TAX\n",
        "#   Set total_sales_tax = state_sales_tax + county_sales_tax\n",
        "#   Set total_sale = purchase + total_sales_tax\n",
        "#   Display purchase, state_sales_tax, county_sales_tax, total_sales_tax, total_sale\n",
        "# Stop\n",
        "\n",
        "\n",
        "STATE_TAX = 0.04\n",
        "COUNTY_TAX = 0.02\n",
        "purchase = float(input(\"Ingrese el valor de las compras: $\"))\n",
        "state_sales_tax = purchase  * STATE_TAX\n",
        "county_sales_tax = purchase  * COUNTY_TAX\n",
        "total_sales_tax = state_sales_tax + county_sales_tax\n",
        "total_sale = purchase + total_sales_tax\n",
        "print(\"-\" * 20)\n",
        "print(f\"Total Compra: ${purchase}\\nImpuestos de Estado: ${state_sales_tax}\\nImpuesto de Condado: ${county_sales_tax}\\nTotal Impuestos: ${total_sales_tax}\\nVenta Total: ${total_sale}\")\n",
        "print(\"-\" * 20)"
      ],
      "metadata": {
        "id": "8_umEGWyuR_F"
      },
      "execution_count": null,
      "outputs": []
    },
    {
      "cell_type": "code",
      "source": [
        "#calcular\n",
        "a = float(input(\"ingresa a: \"))\n",
        "b = float(input(\"ingresa b: \"))\n",
        "if a != 0:\n",
        "  x = (-b/a)\n",
        "  print(f\"la ecuacion x = {x} \")\n",
        "else:\n",
        "    if b != 0:\n",
        "      print(\"imposible\")\n",
        "    else:\n",
        "      print(\"indeterminante\")"
      ],
      "metadata": {
        "id": "FqH_oOu3yav3"
      },
      "execution_count": null,
      "outputs": []
    },
    {
      "cell_type": "code",
      "source": [
        "#calcular\n",
        "a = float(input(\"ingresa a: \"))\n",
        "b = float(input(\"ingresa b: \"))\n",
        "if a != 0:\n",
        "  x = (-b/a)\n",
        "  print(f\"la ecuacion x = {x} \")\n",
        "else:\n",
        "    if b != 0:\n",
        "      print(\"imposible\")\n",
        "    else:\n",
        "      print(\"indeterminante\")"
      ],
      "metadata": {
        "id": "X-wTMVhyOO6a"
      },
      "execution_count": null,
      "outputs": []
    },
    {
      "cell_type": "code",
      "source": [
        "TASA_TARIFA_EXTRA = 0.5\n",
        "IMP_BASE = 0.2\n",
        "IMP_EXTRA = 0.3\n",
        "\n",
        "# horas = 35\n",
        "# tarifa = 75\n",
        "# nombre = \"mike\"\n",
        "\n",
        "horas = float(input(\"ingreso el numero de horas: \"))\n",
        "tarifa = float(input(\"ingreso el valor de la tarifa: \"))\n",
        "nombre = (input(\"ingreso el nombre del trabajador: \"))\n",
        "\n",
        "if horas <= 35:\n",
        "   salario_bruto = horas * tarifa\n",
        "else:\n",
        "  horas_extras = horas - 35\n",
        "  tarifa_extra = tarifa * (1 + TASA_TARIFA_EXTRA)\n",
        "  salario_bruto = tarifa * 35 + horas_extras * tarifa_extra\n",
        "\n",
        "if salario_bruto <= 2200:\n",
        "  impuesto = 0\n",
        "else:\n",
        "  if salario_bruto <= 2420:\n",
        "    impuesto = 220 * IMP_BASE\n",
        "  else:\n",
        "    impuesto = 220 * IMP_BASE + (salario_bruto - 2420) * IMP_EXTRA\n",
        "\n",
        "salario_neto = salario_bruto + impuesto\n",
        "print(f\"El trabajador {nombre} debe recibir ${salario_neto}.\")"
      ],
      "metadata": {
        "id": "1LiYkNR88bsZ"
      },
      "execution_count": null,
      "outputs": []
    },
    {
      "cell_type": "code",
      "source": [
        "35 * 50 + (40 - 35)*50 * 1.5"
      ],
      "metadata": {
        "id": "WVqIg4ZWQYWb"
      },
      "execution_count": null,
      "outputs": []
    },
    {
      "cell_type": "code",
      "source": [
        "# a = 3\n",
        "# b = 4\n",
        "# c = 2\n",
        "\n",
        "a = float(input(\"ingrese a : \"))\n",
        "b = float(input(\"ingrese b : \"))\n",
        "c = float(input(\"ingrese c : \"))\n",
        "\n",
        "if a > b:\n",
        "  if a > c:\n",
        "    mayor = a\n",
        "  else:\n",
        "    mayor = c\n",
        "else:\n",
        "  if b > c:\n",
        "    mayor = b\n",
        "  else:\n",
        "    mayor = c\n",
        "\n",
        "  if a == c and b == c:\n",
        "    print(\"todos son iguales\")\n",
        "\n",
        "print(f\"El número mayor es {mayor}.\")"
      ],
      "metadata": {
        "id": "hjNxS17vAOv5"
      },
      "execution_count": null,
      "outputs": []
    },
    {
      "cell_type": "markdown",
      "source": [
        "#sentencias\n",
        "\n",
        "if,\n",
        "elif : dentro del if,\n",
        "else,\n",
        "operador ternario \"ternary operator\"\n",
        "\n",
        "`value true if condicion else value false`\n"
      ],
      "metadata": {
        "id": "RBPlwQujLMHk"
      }
    },
    {
      "cell_type": "code",
      "source": [
        "# a = 3\n",
        "# b = 10\n",
        "# c = -10\n",
        "\n",
        "a = int(input(\"ingrese el primer numero: \"))\n",
        "b = int(input(\"ingrese el segundo numero: \"))\n",
        "c = int(input(\"ingrese el tercer numero: \"))\n",
        "\n",
        "if a > b:\n",
        "  if b > c:\n",
        "    print(a,b,c)\n",
        "  else:\n",
        "    if c > a:\n",
        "      print(c,a,b)\n",
        "    else:\n",
        "      print(a,c,b)\n",
        "else:\n",
        "  if a > c:\n",
        "    print(b,a,c)\n",
        "  else:\n",
        "    if c > b:\n",
        "      print(c,b,a)\n",
        "    else:\n",
        "      print(b,c,a)"
      ],
      "metadata": {
        "id": "VGfbjq3AM466"
      },
      "execution_count": null,
      "outputs": []
    },
    {
      "cell_type": "markdown",
      "source": [
        "Determinar el precio de un tiquete de ida y vuelta en avión, conociendo la distancia a recorrer y una tarifa por km. La tarifa tiene un descuento del 30% si la estancia es mayor a 7 días y la distancia es superior a 800 km"
      ],
      "metadata": {
        "id": "6YB4J59Yecxt"
      }
    },
    {
      "cell_type": "code",
      "source": [
        "# distancia = 900\n",
        "# tarifa = 1000\n",
        "# t = 8\n",
        "DISCOUNT = 0.3\n",
        "distancia = int(input(\"Ingrese la distancia en km: \"))\n",
        "tarifa = float(input(\"Ingrese la tarifa por km ($): \"))\n",
        "t = int(input(\"Ingrese el número de días de su estancia: \"))\n",
        "\n",
        "precio = 2 * distancia * tarifa\n",
        "if t > 7 and distancia > 800:\n",
        "  precio *= (1 - DISCOUNT)\n",
        "\n",
        "print(f\"El precio del tiquete ida y vuelta es ${precio:,}\")"
      ],
      "metadata": {
        "id": "x135w-ivY77G"
      },
      "execution_count": null,
      "outputs": []
    },
    {
      "cell_type": "markdown",
      "source": [
        "Pseudocodigo\n",
        "```\n",
        "Start\n",
        "  Declare REal x, y\n",
        "\n",
        "  Input x\n",
        "  Input y\n",
        "\n",
        "  If x == 0 OR y == 0:\n",
        "    Display \"coordenadas sobre uno o mas ejes \"\n",
        "  Else:\n",
        "    If x > 0 Then\n",
        "        If y > 0 then\n",
        "          display \"primer cuadrante\"\n",
        "        Else\n",
        "          display \"cuarto cuadrante\"\n",
        "        End if\n",
        "    Else\n",
        "        If y > 0 then\n",
        "          display \"segundo cuadrante\"\n",
        "        Else\n",
        "          display \" tercer cuadrante\n",
        "        End if  \n",
        "    End if\n",
        "  End if\n",
        "```"
      ],
      "metadata": {
        "id": "eBvWUrejfMnK"
      }
    },
    {
      "cell_type": "code",
      "source": [
        "x = float(input(\"ingrese coordenada x: \"))\n",
        "y = float(input(\"ingrese coordenada y: \"))\n",
        "\n",
        "if x == 0 or y == 0:\n",
        "  print(\"coordenadas sobre uno o mas ejes \")\n",
        "else:\n",
        "  if x > 0:\n",
        "    if y > 0:\n",
        "      print(\"primer cuadrante\")\n",
        "    else:\n",
        "      print(\"cuarto cuadrante\")\n",
        "  else:\n",
        "      if y > 0:\n",
        "          print(\"segundo cuadrante\")\n",
        "      else:\n",
        "         print(\"tercer cuadrante\")"
      ],
      "metadata": {
        "id": "Y00DXYN9fMHr"
      },
      "execution_count": null,
      "outputs": []
    },
    {
      "cell_type": "markdown",
      "source": [
        "importar libreria\n",
        "import \"\"\n",
        "choice"
      ],
      "metadata": {
        "id": "__U0jvDKkVxa"
      }
    },
    {
      "cell_type": "code",
      "source": [
        "import random\n",
        "\n",
        "print(\"Seleccione una opción:\\n1. Cara\\n2. Sello\")\n",
        "bet = int(input())\n",
        "x = random.choice([1, 2])\n",
        "# if x == bet:\n",
        "#   print(\"Ganaste\")\n",
        "# else:\n",
        "#   print(\"Perdiste\")\n",
        "\n",
        "print(\"Ganaste\") if  x == bet else print(\"Perdiste\")"
      ],
      "metadata": {
        "id": "7fsdmyQgkbr4"
      },
      "execution_count": null,
      "outputs": []
    },
    {
      "cell_type": "markdown",
      "source": [
        "Subsidio\n",
        "```\n",
        "(snm) sobreniveldelmar\n",
        "(cu) consumo unitario\n",
        "\n",
        "consumo básico | h>1000m (snm) : 130kWh\n",
        "               | h<            : 173kWh\n",
        "\n",
        "                 {\n",
        "                 1: -60%  cu -> tarifa\n",
        "                 2: -50%\n",
        "                 3: -15%\n",
        "                 4:  0%\n",
        "                 }\n",
        "                 5:  6 , com +20%\n",
        "\n",
        "                 consumo < basico\n",
        "                 total = cu * consumo\n",
        "                 basico * cu + (consumo-basico) + tarifa plena\n",
        "\n",
        "\n",
        "```\n",
        "<!-- pseudocodigo -->\n",
        "\n",
        "```\n",
        "declare real h, consumo\n",
        "\n",
        "if h > 1000 then\n",
        "  set consumo_base = 130\n",
        "else\n",
        "  set consumo base_base = 173\n",
        "end if\n",
        "\n",
        "Select estrato\n",
        "\n",
        "Case '4':\n",
        "  set tarifa = costo_unitario\n",
        "Case '5', '6', 'comercial':\n",
        "  set tarifa = costo_unitario\n",
        "Case '4':\n",
        "  set tarifa = costo_unitario\n",
        "Case '4':\n",
        "  set tarifa = costo_unitario\n",
        "Case '4':\n",
        "  set tarifa = costo_unitario\n",
        "\n",
        "\n",
        "```"
      ],
      "metadata": {
        "id": "QXNcVPk7mOih"
      }
    },
    {
      "cell_type": "code",
      "source": [
        "h = float(input(\"ingrese la altura sobre el nivel del mar en metros: \"))\n",
        "consumo = float(input(\"ingrese el consumo en kWh \"))\n",
        "estrato = float(input(\"ingrese el estrato: \"))\n",
        "costo_unitario = float(input(\"ingrese el costo unitario en $: \"))\n",
        "\n",
        "# h = 1200\n",
        "# consumo = 180\n",
        "# estrato = '3'\n",
        "# costo_unitario = 500\n",
        "\n",
        "if h > 1000:\n",
        "  consumo_base = 130\n",
        "else:\n",
        "  consumo_base = 170\n",
        "\n",
        "if estrato == '4':\n",
        "  tarifa = costo_unitario\n",
        "elif estrato == '5' or estrato == '6' or estrato == 'comercial':\n",
        "  tarifa = costo_unitario * 1.2\n",
        "elif estrato == '1':\n",
        "  tarifa = costo_unitario * 0.4\n",
        "elif estrato == '2':\n",
        "  tarifa = costo_unitario * 0.5\n",
        "elif estrato == '3':\n",
        "  tarifa = costo_unitario * 0.85\n",
        "else:\n",
        "  print(\"Estrato no valido.\")\n",
        "  tarifa = 0\n",
        "\n",
        "if consumo < consumo_base:\n",
        "  total = tarifa * consumo\n",
        "else:\n",
        "  total = consumo_base * tarifa + (consumo - consumo_base) * costo_unitario\n",
        "\n",
        "print(f\"Total: ${total}\")"
      ],
      "metadata": {
        "id": "srBf43CPmOBi"
      },
      "execution_count": null,
      "outputs": []
    },
    {
      "cell_type": "code",
      "source": [
        "# Program calcular_factura\n",
        "# Start\n",
        "\n",
        "# \tDeclare Real h, consumo_base, tarifa, costo_unitario, consumo, total\n",
        "# \tDeclare String estrato\n",
        "\n",
        "# \tInput h\n",
        "# \tInput consumo\n",
        "# \tInput estrato\n",
        "# \tInput costo_unitario\n",
        "\n",
        "# \tIf h > 1000 Then\n",
        "# \t\tSet consumo_base = 130\n",
        "# \tElse\n",
        "# \t\tSet consumo_base = 173\n",
        "# \tEnd If\n",
        "\n",
        "# \tSelect estrato\n",
        "# \tCase '4':\n",
        "# \t\tSet tarifa = costo_unitario\n",
        "# \tCase '5', '6', 'comercial':\n",
        "# \t\tSet tarifa = costo_unitario * 1.2\n",
        "# \tCase '1':\n",
        "# \t\tSet tarifa = costo_unitario * 0.4\n",
        "# \tCase '2':\n",
        "# \t\tSet tarifa = costo_unitario * 0.5\n",
        "# \tCase '3':\n",
        "# \t\tSet tarifa = costo_unitario * 0.85\n",
        "# \tDefault:\n",
        "# \t\tDisplay \"Estrato no válido.\"\n",
        "# \t\tSet tarifa = 0\n",
        "# \tEnd Select\n",
        "\n",
        "# \tIf consumo < consumo_basico Then\n",
        "# \t\tSet total = tarifa * consumo\n",
        "# \tElse\n",
        "# \t\tSet total = consumo_basico * tarifa + (consumo - consumo_basico) * costo_unitario\n",
        "# \tEnd If\n",
        "\n",
        "# \tDisplay total\n",
        "# Stop\n",
        "\n",
        "h = float(input(\"Ingrese la altura sobre el nivel del mar en metros: \"))\n",
        "consumo = float(input(\"Ingrese el consumo en kWh: \"))\n",
        "print(\"Seleccione el estrato: \")\n",
        "print(\"1. Estrato 1\\n2. Estrato 2\\n3. Estrato 3\\n4. Estrato 4\\n5. Estrato 5\\n6. Estrato 6\\n7. Comercial\")\n",
        "estrato = int(input(\"Ingrese estrato: \"))\n",
        "costo_unitario = float(input(\"Ingrese el costo unitario en $: \"))\n",
        "\n",
        "# h = 1200\n",
        "# consumo = 180\n",
        "# estrato = '3'\n",
        "# costo_unitario = 500\n",
        "\n",
        "if h > 1000:\n",
        "  consumo_base = 130\n",
        "else:\n",
        "  consumo_base = 173\n",
        "\n",
        "if\testrato == 4:\n",
        "\ttarifa = costo_unitario\n",
        "elif estrato == 5 or estrato == 6 or estrato == 7:\n",
        "  tarifa = costo_unitario * 1.2\n",
        "elif estrato == 1:\n",
        "\ttarifa = costo_unitario * 0.4\n",
        "elif estrato == 2:\n",
        "\ttarifa = costo_unitario * 0.5\n",
        "elif estrato == 3:\n",
        "\ttarifa = costo_unitario * 0.85\n",
        "else:\n",
        "\tprint(\"Estrato no válido.\")\n",
        "\ttarifa = 0\n",
        "\n",
        "\n",
        "if consumo < consumo_base:\n",
        "\ttotal = tarifa * consumo\n",
        "else:\n",
        "\ttotal = consumo_base * tarifa + (consumo - consumo_base) * costo_unitario\n",
        "\n",
        "print(f\"Total: ${total}\")"
      ],
      "metadata": {
        "id": "DIdAjRkExmDi"
      },
      "execution_count": null,
      "outputs": []
    },
    {
      "cell_type": "markdown",
      "source": [
        "for se sabe el dato previamente\n",
        "\n",
        "while cuando no se sabe el numero de veces"
      ],
      "metadata": {
        "id": "O-ATXJco2I2B"
      }
    },
    {
      "cell_type": "code",
      "source": [
        "# program calcular_suma\n",
        "# start\n",
        "#   declare real sum_x, x\n",
        "#   set sum_x=0\n",
        "#   Display \"ingrese un valor: \"\n",
        "#   input x\n",
        "#   Set sum_x = sum_x + x\n",
        "#   while x !=0 then\n",
        "#     display \"ingrese el sig valor:\"\n",
        "#     input x\n",
        "#     set sum_x = sum_x + x\n",
        "#   end while\n",
        "#   display \"la suma es \", sum_x\n",
        "\n",
        "sum_x = 0\n",
        "while:\n",
        "  n = float(input(\"Ingrese un numero para sumar y cero para terminar el programa: \"))\n",
        "  if n == 0:\n",
        "    break\n",
        "  sum_x += n\n",
        "\n",
        "print(f\"El total es: {sum_x}\")"
      ],
      "metadata": {
        "id": "mFHOijVzz0y_"
      },
      "execution_count": null,
      "outputs": []
    },
    {
      "cell_type": "code",
      "source": [
        "# program_calcular_nota\n",
        "# start\n",
        "\n",
        "# \tdeclare integer N\n",
        "# \tdeclare real nota, peso, prom, sum_prod, sum_peso\n",
        "# \tdisplay \"ingrese el numero de notas: \"\n",
        "# \tinput N\n",
        "# \tset sum_prod = 0\n",
        "# \tset sum_pes = 0\n",
        "\n",
        "# \tfor i = 1 to N\n",
        "# \t\tdisplay \"ingrese el numero de notas: \"\n",
        "# \t\tinput nota\n",
        "# \t\tdisplay \"ingrese el peso de notas: \"\n",
        "# \t\tinput peso\n",
        "# \t\tset sum_prod +=\tnota * peso\n",
        "# \t\tset sum_pes += peso\n",
        "# \tend for\n",
        "# \tif sum_pes != 0 then\n",
        "# \t\tset prom = sum_prod / sum_pes\n",
        "# \t\tdisplay prom\n",
        "# \t\tif prom > 3 then\n",
        "# \t\t\tdisplay \"ganando\"\n",
        "# \t\telse\n",
        "# \t\t\tdisplay \"perdiendo\"\n",
        "# \t\tend if\n",
        "# \telse\n",
        "# \t\tdisplay \" no se puede calcular el promedio. \"\n",
        "# \tend if\n",
        "\n",
        "# stop\n",
        "\n",
        "N = int(input(\"Ingrese el número de notas: \"))\n",
        "sum_prod = 0\n",
        "sum_pes = 0\n",
        "message = \"Resumen:\\n\"\n",
        "for i in range(N):\n",
        "  nota = float(input(\"Ingrese nota: \"))\n",
        "  peso = float(input(\"Ingrese peso: \"))\n",
        "  sum_prod += nota * peso / 100\n",
        "  sum_pes += peso / 100\n",
        "  message += f\"Nota: {nota}\\tPeso: {peso}%\\n\"\n",
        "\n",
        "if sum_pes != 0:\n",
        "  prom = sum_prod / sum_pes\n",
        "  # print(prom)\n",
        "  message += f\"Peso: {sum_pes * 100:.2f}%\\tPromedio: {prom:.2f}\"\n",
        "  print(message)\n",
        "  print(\"Va ganando\") if prom >= 3 else print(\"Va perdiendo\")\n",
        "else:\n",
        "  print(\"No se puede calcular el promedio.\")"
      ],
      "metadata": {
        "id": "3sFwfrxm6kGh"
      },
      "execution_count": null,
      "outputs": []
    },
    {
      "cell_type": "markdown",
      "source": [
        "append de uno en uno al final de la lista\n",
        "\n",
        "```\n",
        "lista = ['manzana', 'pera']\n",
        "lista.append = ['manzana', 'pera']\n",
        "\n",
        "\n",
        "remove se invoca sobre la lista y se pasa el valor\n",
        "\n",
        "lista.remove ['x']\n",
        "\n",
        "insert : me permite agregar un valor\n",
        "o indices negativos\n",
        "\n",
        "lista.insert\n",
        "\n",
        "pop eliminar\n",
        "\n",
        "lista.pop\n",
        "\n",
        "range y len\n",
        "\n",
        "rango= range(10)\n",
        "print(rango)\n",
        "\n",
        "list(range(x)\n",
        "\n",
        "slicing, count numero de veces que aparece y contarlo, sorting \"sort modificar nueva lista\", \"sorted genera nueva lista\"\n",
        "\n",
        "```"
      ],
      "metadata": {
        "id": "ykMWtjz7OJqD"
      }
    },
    {
      "cell_type": "code",
      "source": [
        "# fruits = ['manzana', 'naranja', 'pera', 'maracuya', 'mango', 'pomelo']\n",
        "# print(fruits)\n",
        "# fruits.append('guanabana')\n",
        "# print(fruits)\n",
        "# fruits.append('ciruela')\n",
        "# print(fruits)\n",
        "\n",
        "#acceder a elementos\n",
        "# print(fruits[0])\n",
        "# print(fruits[-1])\n",
        "# print(fruits[4])\n",
        "\n",
        "#slicing todos los elementos hasta el rango\n",
        "# print(fruits[:3])  #adelante a atras\n",
        "# print(fruits[5:])  #atras hacia adelante\n",
        "# print(fruits[2:5]) #rango especifico\n",
        "# print(fruits[:3] + fruits[4:]) #saltarse uno de la lista\n",
        "\n",
        "#modificar\n",
        "# print(fruits)\n",
        "# fruits[2]= 'banano'\n",
        "# fruits[5]= 'mandarina'\n",
        "# print(fruits)\n",
        "\n",
        "#remove\n",
        "# fruits.remove('guanabana')   #ej c = fruits.remove()\n",
        "# print(fruits)\n",
        "\n",
        "#insert\n",
        "# print(fruits)\n",
        "# fruits.insert(2, 'piña')\n",
        "# print(fruits)\n",
        "\n",
        "#pop\n",
        "# print(fruits)\n",
        "# b = fruits.pop()\n",
        "# print(fruits)\n",
        "# a = fruits.pop(2)  #lo puedo almacenar e imprimir\n",
        "# print(fruits)\n",
        "# print(a)  #llamarlo nuevamente\n",
        "\n",
        "#range\n",
        "# a = range(5)\n",
        "# print(a)\n",
        "# b = (2,5)\n",
        "# print(b)\n",
        "# c = range(3, -5, 2)\n",
        "# print(c)\n",
        "# d = range(len(fruits))  #tamaño de una lista y contarla\n",
        "# print(d)\n",
        "# print(fruits)\n",
        "\n",
        "#sorting\n",
        "\n",
        "# print(fruits)\n",
        "# fruits.sort()\n",
        "# print(fruits)\n",
        "\n",
        "# print(fruits)\n",
        "# fruits.sort(reverse=True)\n",
        "# print(fruits)\n",
        "\n",
        "#sorted\n",
        "\n",
        "# a = sorted(fruits)\n",
        "# print(fruits)\n",
        "# print(a)\n",
        "\n",
        "#for loops\n",
        "#for <variable temportal> en <x>\n",
        "\n",
        "fruits = ['manzana', 'naranja', 'pera', 'maracuya', 'mango', 'pomelo']\n",
        "\n",
        "#for\n",
        "\n",
        "# for fruit in fruits:\n",
        "#   print(f\"Me gusta la {fruit}\")  #lista sin numero\n",
        "\n",
        "# for i in range(len(fruits)):\n",
        "#   print(f\"{i+1}. {fruits[i]}\")  #lista con numero\n",
        "\n",
        "# for i in range(5):\n",
        "#   print(i)  #print numero especifico\n",
        "\n",
        "# i = 0\n",
        "# while i<5:\n",
        "#   print(i)\n",
        "#   i += 1   #contar hasta un punto especifico\n",
        "\n",
        "# for i in range(10, -10, -2):\n",
        "#   print(i)   #contar en pasos de -2 en -2 de un valor a otro\n",
        "\n",
        "# for fruit in fruits:\n",
        "#   print(fruit)\n",
        "#   if fruit == 'maracuya':\n",
        "#     print(\"la encontre\")\n",
        "#     break # romper el programa cuiando la encuentre\n",
        "\n",
        "# fruits.append('maracuya')\n",
        "# fruits.append('fresa')\n",
        "# print(fruits)\n",
        "\n",
        "# for fruit in fruits:\n",
        "#   if fruit == 'maracuya':\n",
        "#     continue\n",
        "#   print(fruit)  #que me agrege la fruta pero se vuele una\n",
        "\n",
        "#list comprenhensions\n",
        "#[for expresion for elemento in coleccion]\n",
        "\n",
        "# extra_fruits = ['extra ' + fruit + ' ' +str(len(fruit)) for fruit in fruits]  #modifica y cuenta con el str len\n",
        "# print(extra_fruits)\n",
        "\n",
        "# name = 'miguel'\n",
        "# print(name[0]) #imprime en un lugar"
      ],
      "metadata": {
        "id": "HYRCbDvEN9no"
      },
      "execution_count": null,
      "outputs": []
    },
    {
      "cell_type": "code",
      "source": [
        "import random\n",
        "# print(\"Seleccione una opción:\\n1. Cara\\n2. Sello\")\n",
        "# bet = int(input())\n",
        "# x = random.choice([1, 2])\n",
        "# print(\"Ganaste\") if  x == bet else print(\"Perdiste\")\n",
        "\n",
        "#reggeton\n",
        "\n",
        "l1 = ['mami ','bebe ','princess ', 'dalte ']\n",
        "l2 = ['yo quiero ','yo puedo ','yo vengo a ', 'voy a ']\n",
        "l3 = ['encenderte ','amarte ','ligar ', 'jugar ']\n",
        "l4 = ['suave ','lento ','rapido ', 'fuerte ']\n",
        "l5 = ['hasta que salga el sol ','toda la noche ','hasta el amanecer ', 'todo el dia ']\n",
        "l6 = ['sin anestesia ','sin compromiso ','feis to feis ', 'sin miedo ']\n",
        "palabras_reg = [l1, l2, l3, l4, l5, l6]\n",
        "\n",
        "message = ''\n",
        "\n",
        "for part in palabras_reg:\n",
        "  message += random.choice(part)\n",
        "print(message)"
      ],
      "metadata": {
        "id": "TwCMWALOZM0Q"
      },
      "execution_count": null,
      "outputs": []
    },
    {
      "cell_type": "code",
      "source": [
        "a = list(input(\"ingrese numeros separados por coma (','): \"))\n",
        "print(type(a))\n",
        "numbers = []\n",
        "for i in range(len(a)):\n",
        "  if a[i] != '':\n",
        "    !numbers.append(float(a[i]))\n",
        "print(a)"
      ],
      "metadata": {
        "id": "eOgtmP-CfiLU"
      },
      "execution_count": null,
      "outputs": []
    },
    {
      "cell_type": "code",
      "source": [
        "l1 = [2, 3, 1, 15]\n",
        "l2 = [1, 5, 6]\n",
        "\n",
        "s1 = 0\n",
        "s2 = 0\n",
        "\n",
        "for suma1 in l1:\n",
        "  s1 += suma1\n",
        "  l3 = [s1]\n",
        "for suma2 in l2:\n",
        "  s2 += suma2\n",
        "  l4 = [s2]\n",
        "\n",
        "listas = [l3, l4]\n",
        "listas.sort()\n",
        "print(listas)\n"
      ],
      "metadata": {
        "id": "pqYVoYD0fnTc"
      },
      "execution_count": null,
      "outputs": []
    },
    {
      "cell_type": "code",
      "source": [
        "# program roman_numeral\n",
        "# star\n",
        "#   declare integer number\n",
        "#   input number\n",
        "#   switch numer\n",
        "#     1:\n",
        "#       dispay \"I\"\n",
        "#     2:\n",
        "#         display \"II\"\n",
        "#     3:\n",
        "#     ...\n",
        "#     default:\n",
        "#       \"numero fuera de rango\"\n",
        "# stop\n",
        "\n",
        "number = int(input(\"Ingrese un numero entre 1 y 10: \"))\n",
        "if number == 1:\n",
        "  print(\"I\")\n",
        "elif number == 2:\n",
        "  print(\"II\")\n",
        "elif number == 3:\n",
        "  print(\"III\")\n",
        "else:\n",
        "  print(\"numero fuera de rango\")"
      ],
      "metadata": {
        "id": "nyxDpl9mjR7o"
      },
      "execution_count": null,
      "outputs": []
    },
    {
      "cell_type": "code",
      "source": [
        "roman_numerals = [\"I\", \"II\", \"III\", \"IV\", \"V\", \"VI\", \"VII\", \"VIII\", \"IX\", \"X\"]\n",
        "number = int(input(\"Ingrese el número: \")) - 1\n",
        "if number in range(len(roman_numerals)):\n",
        "  print(roman_numerals[number])\n",
        "else:\n",
        "  print(\"Fuera de rango.\")"
      ],
      "metadata": {
        "id": "LmtrGApClCDv"
      },
      "execution_count": null,
      "outputs": []
    },
    {
      "cell_type": "code",
      "source": [
        "#dos rectangulos  comparar\n",
        "l1= float(input(\"ingrese lado 1: \"))\n",
        "l2 = float(input(\"ingrese lado 2: \"))\n",
        "w1 = float(input(\"ingrese ancho 1: \"))\n",
        "w2 = float(input(\"ingrese ancho 2: \"))\n",
        "\n",
        "a1 = l1 * w1\n",
        "a2 = l2 * w2\n",
        "\n",
        "if a1 > a2:\n",
        "  print(\"el primer rectangulo es mayor area\")\n",
        "elif a2 > a1:\n",
        "  print(\"el segundo rectangulo es mayor area\")\n",
        "else:\n",
        "  print(\"son iguales\")\n",
        "\n",
        "\n",
        "  #numpy y funcion arq max"
      ],
      "metadata": {
        "id": "KTIyT5zPpZ84"
      },
      "execution_count": null,
      "outputs": []
    },
    {
      "cell_type": "code",
      "source": [
        "masa = float(input('Ingrese la masa en kilogramos: '))\n",
        "peso = float(input('Ingrese el peso en Newtons: '))\n",
        "\n",
        "if peso == masa * 9.8:\n",
        "  print('Los valores ingresados son correctos.')\n",
        "  if peso > 10000:\n",
        "    print('El objeto es muy pesado.')\n",
        "  elif peso < 10:\n",
        "    print('El objeto es muy liviano.')\n",
        "  else:\n",
        "    print('El objeto tiene un peso normal.')\n",
        "else:\n",
        "  print('Los valores ingresados no son correctos.')\n"
      ],
      "metadata": {
        "id": "h2cbU-s8rF1U"
      },
      "execution_count": null,
      "outputs": []
    },
    {
      "cell_type": "code",
      "source": [
        "mass = float(input(\"Ingrese el valor de la masa en kg: \"))\n",
        "weight = mass * 9.8\n",
        "if weight > 10000:\n",
        "  print(\"El objeto es muy pesado.\")\n",
        "elif weight < 10:\n",
        "  print(\"El objeto es muy liviano.\")"
      ],
      "metadata": {
        "id": "Wgs0xjiWuair"
      },
      "execution_count": null,
      "outputs": []
    },
    {
      "cell_type": "code",
      "source": [
        "estrucctura secuencial\n",
        "ciclos y condicionales examen"
      ],
      "metadata": {
        "id": "5xjaw1HSvYcM"
      },
      "execution_count": null,
      "outputs": []
    },
    {
      "cell_type": "markdown",
      "source": [
        "# TEST_ACTIVIDAD_3_id"
      ],
      "metadata": {
        "id": "Rxc9Ec787JcC"
      }
    },
    {
      "cell_type": "markdown",
      "source": [
        "El factorial es el producto de los enteros no negativos desde 1 hasta n\n",
        "\n",
        "n! = 1x2x3...xn\n",
        "\n",
        "Entrada(s):\n",
        "\n",
        "- Un numero entero no negativo ingresado por el usuario\n",
        "- Variable de entrada: n (de tipo entero)\n",
        "\n",
        "Salida(s):\n",
        "\n",
        "- Un numero que represente el factorial del numero ingresado por el usuario.\n",
        "- Variable de salida: f (de tipo flotante) -> El factorial de un numero puede tomar un valor muy grande\n",
        "\n",
        "Otras variables:\n",
        "\n",
        "- El iterador utilizado en el ciclo\n",
        "\n",
        "Proceso(s):\n",
        "\n",
        "- Se debe solicitar el numero\n",
        "- Inicializar una variable donde se guardara el resultado\n",
        "- Inicializar un contador para ir incrementar el producto en cada iteracion\n",
        "- Iterar desde un valor inicial 1 hasta llegar al valor ingresado por el usuario, como se que el numero de repeticiones esta dfefinido previamente (1 hasta n), utilizare un ciclo for\n",
        "- En cada iteracion multiplicar y guardar el resultado\n",
        "- Finalmente, se muestra el valor obtenido\n",
        "\n",
        "Restricciones:\n",
        "\n",
        "- Factorial representa el fact de un numero no negativo entero -> se debe validar el signo\n",
        "- La validacion se puedfe hacer con un condicional que  verifique que el valor ingresado es un numero entero positivo. de lo contrario, indicarle al usuario para que intente nuevamente o finalizar el programa. Como esto no se indica, se indicaria error y finalizar.\n",
        "- El factorial de 0 es 1\n",
        "\n",
        "```\n",
        "Program calcular_factorial\n",
        "//programa para calcular el factorial de un numero entero no negativo.\n",
        "//el factorial se calcula multiplicando los numeros consecutivos desde el 1 hasta el valor n\n",
        "\n",
        "Start\n",
        "\n",
        "  //declarar variables\n",
        "  Declare integer n //representa el valor ingresado por el usuario\n",
        "  Declare Real f //representa el resultado factorial\n",
        "  Declare Integer i //representa el iterador\n",
        "\n",
        "  Display \"programa para el calculo del factorial\"\n",
        "  Display \" ingrese un valor entero no negativo\"\n",
        "  Input n\n",
        "\n",
        "  If n < 0 Then\n",
        "    Display \"el numero ingresado es un numero negativo\"\n",
        "\n",
        "  Else\n",
        "    //Defino el resultado por defecto\n",
        "   Set f = 1\n",
        "\n",
        "    For i = 1 To n\n",
        "      f= f * i\n",
        "    End For\n",
        "\n",
        "    //Se muestra el resultado\n",
        "    Display \" El factorial de \", n, \" es\", f\n",
        "\n",
        "\n",
        "  End IF\n",
        "  \n",
        "\n",
        "End\n",
        "```\n",
        "\n",
        "\n",
        "```\n",
        "\n",
        "Prueba 1:\n",
        "\n",
        "Inciar\n",
        "n, f, i\n",
        "Si el usuario ingresa 0:\n",
        "n = 0\n",
        "como n =  0:\n",
        "f = 1\n",
        "\n",
        "No se ejecuta el ciclo\n",
        "El factorial de 0 es 1\n",
        "\n",
        "Prueba 2:\n",
        "\n",
        "Inciar\n",
        "n, f, i\n",
        "Si el usuario ingresa 4:\n",
        "n = 4\n",
        "como n no es menor que =  0:\n",
        "f = 1\n",
        "\n",
        "\n",
        "Se ejecuta el ciclo:\n",
        "Iteracion #1:\n",
        "i = 1 == 4?\n",
        "f = 1 * 1 = 1\n",
        "\n",
        "Iteracion #2:\n",
        "i = 2 == 4?\n",
        "f = 1 * 2 = 2\n",
        "\n",
        "Iteracion #3:\n",
        "i = 3 == 4?\n",
        "f = 2 * 3 = 6\n",
        "\n",
        "Iteracion #4:\n",
        "i = 4 == 4?\n",
        "f = 6 * 4 = 24\n",
        "\n",
        "Termina el ciclo\n",
        "\n",
        "El factorial de 4 es 24\n",
        "\n",
        "Prueba 3:\n",
        "\n",
        "Inciar\n",
        "n, f, i\n",
        "Si el usuario ingresa -10:\n",
        "n = -10\n",
        "como n =  -10:\n",
        "El numero ingresado es un numero negativo\n",
        "\n",
        "Pregunta:\n",
        "\n",
        "\"Cual es el factorial de 4?\"\n",
        "Respuesta: 24\n",
        "\n",
        "```"
      ],
      "metadata": {
        "id": "D-uX63R_0_vt"
      }
    },
    {
      "cell_type": "markdown",
      "source": [
        "## Atividad Evaluativa 3\n",
        "\n",
        "**Fecha:** _20 de marzo de 2024_\n",
        "\n",
        "**Presentado por:** _Nombre apellidos_\n",
        "\n",
        "**Email:** _Correo institucional_"
      ],
      "metadata": {
        "id": "wT8AGiJq73AB"
      }
    },
    {
      "cell_type": "code",
      "source": [
        "# //declarar variables\n",
        "#   Declare integer n //representa el valor ingresado por el usuario\n",
        "#   Declare Real f //representa el resultado factorial\n",
        "#   Declare Integer i //representa el iterador\n",
        "\n",
        "\n",
        "print(\"Programa para el cálculo del factorial\")\n",
        "print(\"-\"*50)\n",
        "n =\tint(input(\"Ingrese un valor entero no negativo: \"))\n",
        "\n",
        "# Validación del número como positivo\n",
        "if n < 0:\n",
        "  print(\"El número ingresado es un número negativo.\")\n",
        "else:\n",
        "  # Defino el resultado por defecto\n",
        "  f = 1\n",
        "  for i in range(1, n+1):\n",
        "    f *=  i\n",
        "  print(f\"\\tEl factorial de {n} es {f}\")\n",
        ""
      ],
      "metadata": {
        "id": "QmlYMsk37Feb"
      },
      "execution_count": null,
      "outputs": []
    }
  ],
  "metadata": {
    "colab": {
      "private_outputs": true,
      "provenance": [],
      "include_colab_link": true
    },
    "kernelspec": {
      "display_name": "Python 3 (ipykernel)",
      "language": "python",
      "name": "python3"
    },
    "language_info": {
      "codemirror_mode": {
        "name": "ipython",
        "version": 3
      },
      "file_extension": ".py",
      "mimetype": "text/x-python",
      "name": "python",
      "nbconvert_exporter": "python",
      "pygments_lexer": "ipython3",
      "version": "3.12.1"
    }
  },
  "nbformat": 4,
  "nbformat_minor": 0
}