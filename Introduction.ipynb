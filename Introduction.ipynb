{
  "cells": [
    {
      "cell_type": "markdown",
      "metadata": {
        "id": "view-in-github",
        "colab_type": "text"
      },
      "source": [
        "<a href=\"https://colab.research.google.com/github/Santiagomt1/introductionupb202410/blob/main/Introduction.ipynb\" target=\"_parent\"><img src=\"https://colab.research.google.com/assets/colab-badge.svg\" alt=\"Open In Colab\"/></a>"
      ]
    },
    {
      "cell_type": "markdown",
      "metadata": {
        "id": "VZA-YfwKnBbc"
      },
      "source": [
        "# Introducción a Python\n",
        "## Fundamentos de Programación\n",
        "### Ingeniería Electrónica UPB Montería (202410)\n",
        "- Docente: Miguel Ortiz\n",
        "- email: miguel.ortizp@upb.edu.co\n",
        "\n",
        "**docente:** asterisco negritas\n",
        "\n",
        "_email:_ guion bajo cursiva\n"
      ]
    },
    {
      "cell_type": "code",
      "execution_count": null,
      "metadata": {
        "id": "egjbI1I1msBR"
      },
      "outputs": [],
      "source": [
        "# Comentarios\n",
        "\n",
        "# Todo lo que aparezca después de un # se considera un comentario\n",
        "# Sirven para:\n",
        "# - Dar información (contexto)\n",
        "# - Ayuda futura / Documentar\n",
        "# - Hacer pruebas"
      ]
    },
    {
      "cell_type": "code",
      "execution_count": null,
      "metadata": {
        "id": "RI65-J3ZnmM1"
      },
      "outputs": [],
      "source": [
        "# Print\n",
        "\n",
        "print(\"Hello World!\")"
      ]
    },
    {
      "cell_type": "code",
      "execution_count": null,
      "metadata": {
        "id": "lH12QuatoC8Q"
      },
      "outputs": [],
      "source": [
        "# Variables String (Básico)\n",
        "\n",
        "name = \"Miguel\"\n",
        "lastname = \"Ortiz\"\n",
        "\n",
        "print(name, lastname)"
      ]
    },
    {
      "cell_type": "code",
      "execution_count": null,
      "metadata": {
        "id": "yWtEsxlioZpx"
      },
      "outputs": [],
      "source": [
        "# Type\n",
        "\n",
        "fullname = \"Miguel Ortiz\"\n",
        "print(type(fullname))"
      ]
    },
    {
      "cell_type": "code",
      "execution_count": null,
      "metadata": {
        "id": "BSNfzn5-osPm"
      },
      "outputs": [],
      "source": [
        "# Más variables\n",
        "\n",
        "n = 5\n",
        "r = 2.14\n",
        "soleado = True\n",
        "pet = \"Perro\"\n",
        "\n",
        "print(type(n))\n",
        "print(type(r))\n",
        "print(type(soleado))\n",
        "print(type(pet))"
      ]
    },
    {
      "cell_type": "code",
      "execution_count": null,
      "metadata": {
        "id": "_dxQ_8FAqewu"
      },
      "outputs": [],
      "source": [
        "a = 3\n",
        "b = -5\n",
        "c = a + b\n",
        "print(c)"
      ]
    },
    {
      "cell_type": "code",
      "execution_count": null,
      "metadata": {
        "id": "Eg40YRe1sDM-"
      },
      "outputs": [],
      "source": [
        "m = 3\n",
        "b = -2\n",
        "x = 5\n",
        "y = m *  x + b\n",
        "print(y)"
      ]
    },
    {
      "cell_type": "markdown",
      "source": [
        "### Titulos\n",
        "\n",
        "Se colocan con : '#'\n",
        "\n",
        "###Estilo de letras\n",
        "\n",
        "Se colocan * o _ sencillos ( para cursivas ) o dobles (para negritas)\n",
        "\n",
        "`como sombreado` las ' ` ' el backtip\n",
        "\n",
        "Bloque de codigo, se utilizan 3 backtip ( al inicio y al final):\n",
        "\n",
        "```python\n",
        "a = 3\n",
        "b = 5\n",
        "c = a + b\n",
        "print(c)\n",
        "```\n",
        "### Salto de línea\n",
        "\n",
        "Utilice `<br>`\n",
        "\n",
        "<!---<br>---> comentario (`<!---tal--->`)\n",
        "\n",
        "y 3 asteriscos (`***`) para la linea horizontal.\n",
        "\n",
        "***\n",
        "\n",
        "### Listas\n",
        "\n",
        "-Ordenadas: con numeros\n",
        "-Desordenadas: con `-` o `*`\n",
        "\n",
        "Ejemplo:\n",
        "- leche\n",
        "- huevo\n",
        "  - cafe\n",
        "  - limon\n",
        "\n",
        "### Enlace (link)\n",
        "\n",
        "<img src=\" url imagen/>\n",
        "\n",
        "### Texto y url para links en texto\n",
        "\n",
        "[github](https://github.com/Santiagomt1/introductionupb202410)\n",
        "\n",
        "### LaTeX\n",
        "\n",
        "Utilice el signo `$ estilo letra`\n",
        "Para centrar `$$ centrado $$`\n",
        "buscar estilos latex frac raices etc..\n",
        "\n",
        "Ejemplo:\n",
        "\n",
        "La ecuacion que relaciona el voltaje $V$ en una resistencia $R$ con su corriente $I$ se conoce como la Ley de Ohm:\n",
        "$$V = RI$$"
      ],
      "metadata": {
        "id": "vXJqhJY-y_hU"
      }
    },
    {
      "cell_type": "code",
      "source": [
        "# continuación - Operaciones con números\n",
        "\n",
        "# Suma\n",
        "a = 3\n",
        "b = -4\n",
        "c = a + b\n",
        "print(a)\n",
        "\n",
        "# Resta\n",
        "d = 5\n",
        "e = 7\n",
        "f = d - e\n",
        "print(f)\n",
        "# Multiplicación\n",
        "a = b * c # reasignación de variables\n",
        "print(a)\n",
        "\n",
        "# Division\n",
        "a = b / a  #division entera // y normal /\n",
        "print(a)\n",
        "\n",
        "# Modulo\n",
        "a = 6\n",
        "a = a % 2\n",
        "print (a)\n",
        "\n",
        "# Potencia ^ con **\n",
        "a = 8\n",
        "print(a ** 2)\n",
        "print (a ** 3)\n",
        "print (a ** (1/2)) #raiz cuadrada\n",
        "print (a ** (1/3)) # raiz cubica\n"
      ],
      "metadata": {
        "id": "UHO3qkqG9J3-"
      },
      "execution_count": null,
      "outputs": []
    },
    {
      "cell_type": "code",
      "source": [
        "# Concatenar\n",
        "\n",
        "firstname = \"Miguel\"\n",
        "lastname = \"Ortiz\"\n",
        "fullname = lastname + \" , \"+ firstname\n",
        "print(fullname)"
      ],
      "metadata": {
        "id": "Q0QMGC4E-22O"
      },
      "execution_count": null,
      "outputs": []
    },
    {
      "cell_type": "code",
      "source": [
        "# += toma la variable de la izquierda que tengo y la incrementa a la derecha\n",
        "\n",
        "a = 5\n",
        "a += 10\n",
        "print(a)\n",
        "a -= 8\n",
        "a *= 3\n",
        "a /= 2\n",
        "a **= 2 #potencia igual\n",
        "print(a)"
      ],
      "metadata": {
        "id": "9bbLiJDE_b8u"
      },
      "execution_count": null,
      "outputs": []
    },
    {
      "cell_type": "code",
      "source": [
        "#texto largo multilinea\n",
        "\n",
        "texto = \"\"\"Lorem Ipsum es simplemente el texto de relleno de las\n",
        "imprentas y archivos de texto. Lorem Ipsum ha sido el texto de relleno\n",
        "estándar de las industrias desde el año 1500, cuando un impresor (N. del T\n",
        "persona que se dedica a la imprenta) desconocido usó una galería de textos\n",
        "y los mezcló de tal manera que logró hacer un libro de textos especimen.\"\"\"\n",
        "print(texto)"
      ],
      "metadata": {
        "id": "7DOLiDGxAU70"
      },
      "execution_count": null,
      "outputs": []
    }
  ],
  "metadata": {
    "colab": {
      "private_outputs": true,
      "provenance": [],
      "include_colab_link": true
    },
    "kernelspec": {
      "display_name": "Python 3 (ipykernel)",
      "language": "python",
      "name": "python3"
    },
    "language_info": {
      "codemirror_mode": {
        "name": "ipython",
        "version": 3
      },
      "file_extension": ".py",
      "mimetype": "text/x-python",
      "name": "python",
      "nbconvert_exporter": "python",
      "pygments_lexer": "ipython3",
      "version": "3.12.1"
    }
  },
  "nbformat": 4,
  "nbformat_minor": 0
}