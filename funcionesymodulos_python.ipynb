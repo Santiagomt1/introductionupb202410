{
  "nbformat": 4,
  "nbformat_minor": 0,
  "metadata": {
    "colab": {
      "provenance": [],
      "authorship_tag": "ABX9TyMovMYwOLrXuBXTLhUFPoHj",
      "include_colab_link": true
    },
    "kernelspec": {
      "name": "python3",
      "display_name": "Python 3"
    },
    "language_info": {
      "name": "python"
    }
  },
  "cells": [
    {
      "cell_type": "markdown",
      "metadata": {
        "id": "view-in-github",
        "colab_type": "text"
      },
      "source": [
        "<a href=\"https://colab.research.google.com/github/Santiagomt1/introductionupb202410/blob/main/funcionesymodulos_python.ipynb\" target=\"_parent\"><img src=\"https://colab.research.google.com/assets/colab-badge.svg\" alt=\"Open In Colab\"/></a>"
      ]
    },
    {
      "cell_type": "markdown",
      "source": [
        "**modulos y funciones**\n",
        "Modulo:\n",
        "- modulos pedaso del programa para resolver tarea especifica, problemas pequeños\n",
        "- modulos en python sor archivos con codigo que van a ser utilizados\n",
        "- codigo que hace tarea especifica\n",
        "statement = sentencias o intrucciones\n",
        "Funcion:\n",
        "- funcion hacer tarea sencilla y retorna un valor\n",
        "\n",
        "\n",
        "ejemplo modulo\n",
        "\n",
        "Module name()\n",
        "  statement\n",
        "  statement\n",
        "  ...\n",
        "End Module\n",
        "\n",
        "ejemplo\n",
        "\n",
        "Modulo show_msg()\n",
        "display \"hello world\"\n",
        "End module\n",
        "\n",
        "call show_msg()\n",
        "\n",
        "ejemplo funciones\n",
        "\n",
        "function DataType FunctionName(ParameterList)\n",
        "  statement\n",
        "  statement\n",
        "  ...\n",
        "  Return value\n",
        "End Function\n",
        "\n",
        "\n",
        "Function Integer sum(Integer num_1,Integer num_2)\n",
        "  declare integer result\n",
        "  set result = num_1 + num_2\n",
        "  return result\n",
        "end functuion\n",
        "\n",
        "//in code\n",
        "set my_result = sum(2, 3)\n",
        "\n"
      ],
      "metadata": {
        "id": "8iWxzrsjr4DS"
      }
    },
    {
      "cell_type": "code",
      "execution_count": 2,
      "metadata": {
        "colab": {
          "base_uri": "https://localhost:8080/"
        },
        "id": "ktI7GJc8lsBp",
        "outputId": "50e4571f-fcfe-440d-c3cd-cc7ead7f7890"
      },
      "outputs": [
        {
          "output_type": "stream",
          "name": "stdout",
          "text": [
            "Hola :)\n"
          ]
        }
      ],
      "source": [
        "#para declarar funciones en python\n",
        "\n",
        "def say_hello():\n",
        "  print(\"Hola :)\")\n",
        "\n",
        "say_hello()"
      ]
    },
    {
      "cell_type": "markdown",
      "source": [
        "parametro: nombre definido en parentesis de la funcion, **variable pura**\n",
        "argumento: dato asignado a la variable"
      ],
      "metadata": {
        "id": "4UJFB6GRv155"
      }
    },
    {
      "cell_type": "code",
      "source": [
        "def say_hello(name, city):\n",
        "  print(\"hola soy\", name, \"de\", city)\n",
        "say_hello(\"miguel\",\"cordoba\")\n",
        "\n",
        "\n",
        "def say_hello(name, city=\"cordoba\"):\n",
        "  print(\"hola soy\", name, \"de\", city)\n",
        "say_hello(\"miguel\")"
      ],
      "metadata": {
        "colab": {
          "base_uri": "https://localhost:8080/"
        },
        "id": "jXh9HXnTwMlB",
        "outputId": "60a32e48-27c4-464a-ad41-7bc4916ffa50"
      },
      "execution_count": 7,
      "outputs": [
        {
          "output_type": "stream",
          "name": "stdout",
          "text": [
            "hola soy miguel de cordoba\n",
            "hola soy miguel de cordoba\n"
          ]
        }
      ]
    },
    {
      "cell_type": "markdown",
      "source": [
        "argumento a funcion:\n",
        "- pocisional\n",
        "\n",
        "\n",
        "funcion dado el lado a y b me retorne la hipotenisa\n",
        "\n",
        "h= raiz a^2 b^2"
      ],
      "metadata": {
        "id": "-LYEV45xwSWB"
      }
    },
    {
      "cell_type": "markdown",
      "source": [
        "```\n",
        "program calcular_hipotenusa\n",
        "\n",
        "start\n",
        "  \n",
        "  Module main()\n",
        "    Declare Real a, b, h\n",
        "    input a\n",
        "    input b\n",
        "    Set h = hipotenusa(a, b)\n",
        "    Display h\n",
        "  end Module\n",
        "\n",
        "  Function Real hipotenusa(Real a, Real b)\n",
        "    Declare Real h\n",
        "    Return (a ^ 2 + b ^ 2) ^ (1/2)\n",
        "    Return h\n",
        "  End Function\n",
        "\n",
        "stop\n",
        "```"
      ],
      "metadata": {
        "id": "9AZZzu3Ay-Mx"
      }
    },
    {
      "cell_type": "code",
      "source": [
        "def hipotenusa(a,b):\n",
        "  h= (a ** 2 + b ** 2) ** (1/2)\n",
        "  return h\n",
        "\n",
        "a = 3\n",
        "b = 4\n",
        "h= hipotenusa(a,b)\n",
        "print(h)\n",
        "\n",
        "\n",
        "#otra forma\n",
        "\n",
        "def hipotenusa(a,b):\n",
        "  return (a ** 2 + b ** 2) ** (1/2)\n",
        "\n",
        "a = 3\n",
        "b = 4\n",
        "print(hipotenusa(a,b))"
      ],
      "metadata": {
        "colab": {
          "base_uri": "https://localhost:8080/"
        },
        "id": "kcAvqWAH0oyR",
        "outputId": "12e5e56c-4dab-43ff-d933-332e75d47be5"
      },
      "execution_count": 14,
      "outputs": [
        {
          "output_type": "stream",
          "name": "stdout",
          "text": [
            "5.0\n",
            "5.0\n"
          ]
        }
      ]
    },
    {
      "cell_type": "markdown",
      "source": [
        "Strings\n",
        "\n",
        "y acceder a ellos como listas\n",
        "funcion len para saber cuantas letras existen en una lista  ej print(len(name))\n",
        "\n",
        "print(name[0])\n",
        "el string\n",
        "\n",
        "backslaash para incluir caracteres especiales print(\"x cosa\"  \\\"hola\"\\)\n",
        "\n",
        "\n",
        "\n",
        "strip sirva para limpiar cierto caracter\n",
        "replace genera nuevo string para cambiar alguans partes del string original.\n",
        "sentence = \"frase\"\n",
        "sentencenew = sentence.replace('a','@')\n",
        "print(sentencenew)"
      ],
      "metadata": {
        "id": "baDdNAc22OmR"
      }
    },
    {
      "cell_type": "markdown",
      "source": [
        "diccionarios\n",
        "\n",
        "menu = {\"cabeza de gato\": 1000, \"yuca\": 800}\n",
        "print(menu)"
      ],
      "metadata": {
        "id": "ATfZEW7H51do"
      }
    },
    {
      "cell_type": "code",
      "source": [],
      "metadata": {
        "id": "GoE_Upsw4vtw"
      },
      "execution_count": null,
      "outputs": []
    }
  ]
}